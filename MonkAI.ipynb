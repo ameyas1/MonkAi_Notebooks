{
  "nbformat": 4,
  "nbformat_minor": 0,
  "metadata": {
    "accelerator": "GPU",
    "colab": {
      "name": "MonkAI",
      "provenance": [],
      "authorship_tag": "ABX9TyOT4p7ltIWH3UzF0PeXYkOZ",
      "include_colab_link": true
    },
    "kernelspec": {
      "display_name": "Python 3",
      "name": "python3"
    }
  },
  "cells": [
    {
      "cell_type": "markdown",
      "metadata": {
        "id": "view-in-github",
        "colab_type": "text"
      },
      "source": [
        "<a href=\"https://colab.research.google.com/github/ameyas1/MonkAi_Notebooks/blob/main/MonkAI.ipynb\" target=\"_parent\"><img src=\"https://colab.research.google.com/assets/colab-badge.svg\" alt=\"Open In Colab\"/></a>"
      ]
    },
    {
      "cell_type": "code",
      "metadata": {
        "id": "q0MpaLjdz57C",
        "outputId": "1eb46091-d28b-44ea-fc3f-0ec247009ac3",
        "colab": {
          "base_uri": "https://localhost:8080/",
          "height": 793
        }
      },
      "source": [
        "!pip install -U monk-colab"
      ],
      "execution_count": null,
      "outputs": [
        {
          "output_type": "stream",
          "text": [
            "Collecting monk-colab\n",
            "\u001b[?25l  Downloading https://files.pythonhosted.org/packages/f0/0e/04b6ca6b11ef8742c9c041cf043ae1708d003b61d9a1646efb269e8fb489/monk_colab-0.0.1-py3-none-any.whl (515kB)\n",
            "\u001b[K     |████████████████████████████████| 522kB 5.6MB/s \n",
            "\u001b[?25hCollecting gluoncv\n",
            "\u001b[?25l  Downloading https://files.pythonhosted.org/packages/b8/d7/74b530c461ac3eb90f6045a645a59450de1f3d616a4926e371daa021dbd8/gluoncv-0.8.0-py2.py3-none-any.whl (810kB)\n",
            "\u001b[K     |████████████████████████████████| 819kB 36.1MB/s \n",
            "\u001b[?25hCollecting GPUtil\n",
            "  Downloading https://files.pythonhosted.org/packages/ed/0e/5c61eedde9f6c87713e89d794f01e378cfd9565847d4576fa627d758c554/GPUtil-1.4.0.tar.gz\n",
            "Collecting pylg\n",
            "  Downloading https://files.pythonhosted.org/packages/6c/15/20e454f122d87e4088803be527de8566468608c55645b573f702e11cb63c/PyLg-1.3.3-py3-none-any.whl\n",
            "Collecting mxnet-cu101\n",
            "\u001b[?25l  Downloading https://files.pythonhosted.org/packages/40/26/9655677b901537f367c3c473376e4106abc72e01a8fc25b1cb6ed9c37e8c/mxnet_cu101-1.7.0-py2.py3-none-manylinux2014_x86_64.whl (846.0MB)\n",
            "\u001b[K     |███████████████████████████████▌| 834.1MB 1.3MB/s eta 0:00:10tcmalloc: large alloc 1147494400 bytes == 0x38dca000 @  0x7f00facce615 0x591f47 0x4cc229 0x4cc38b 0x50a51c 0x50c1f4 0x507f24 0x509c50 0x50a64d 0x50c1f4 0x507f24 0x509c50 0x50a64d 0x50cfd6 0x58e793 0x50c467 0x58e793 0x50c467 0x58e793 0x50c467 0x58e793 0x50c467 0x509918 0x50a64d 0x50c1f4 0x507f24 0x509c50 0x50a64d 0x50c1f4 0x509918 0x50a64d\n",
            "\u001b[K     |████████████████████████████████| 846.0MB 21kB/s \n",
            "\u001b[?25hRequirement already satisfied, skipping upgrade: requests in /usr/local/lib/python3.6/dist-packages (from gluoncv->monk-colab) (2.23.0)\n",
            "Collecting portalocker\n",
            "  Downloading https://files.pythonhosted.org/packages/89/a6/3814b7107e0788040870e8825eebf214d72166adf656ba7d4bf14759a06a/portalocker-2.0.0-py2.py3-none-any.whl\n",
            "Requirement already satisfied, skipping upgrade: tqdm in /usr/local/lib/python3.6/dist-packages (from gluoncv->monk-colab) (4.41.1)\n",
            "Requirement already satisfied, skipping upgrade: Pillow in /usr/local/lib/python3.6/dist-packages (from gluoncv->monk-colab) (7.0.0)\n",
            "Requirement already satisfied, skipping upgrade: scipy in /usr/local/lib/python3.6/dist-packages (from gluoncv->monk-colab) (1.4.1)\n",
            "Requirement already satisfied, skipping upgrade: matplotlib in /usr/local/lib/python3.6/dist-packages (from gluoncv->monk-colab) (3.2.2)\n",
            "Requirement already satisfied, skipping upgrade: numpy in /usr/local/lib/python3.6/dist-packages (from gluoncv->monk-colab) (1.18.5)\n",
            "Collecting graphviz<0.9.0,>=0.8.1\n",
            "  Downloading https://files.pythonhosted.org/packages/53/39/4ab213673844e0c004bed8a0781a0721a3f6bb23eb8854ee75c236428892/graphviz-0.8.4-py2.py3-none-any.whl\n",
            "Requirement already satisfied, skipping upgrade: chardet<4,>=3.0.2 in /usr/local/lib/python3.6/dist-packages (from requests->gluoncv->monk-colab) (3.0.4)\n",
            "Requirement already satisfied, skipping upgrade: idna<3,>=2.5 in /usr/local/lib/python3.6/dist-packages (from requests->gluoncv->monk-colab) (2.10)\n",
            "Requirement already satisfied, skipping upgrade: certifi>=2017.4.17 in /usr/local/lib/python3.6/dist-packages (from requests->gluoncv->monk-colab) (2020.6.20)\n",
            "Requirement already satisfied, skipping upgrade: urllib3!=1.25.0,!=1.25.1,<1.26,>=1.21.1 in /usr/local/lib/python3.6/dist-packages (from requests->gluoncv->monk-colab) (1.24.3)\n",
            "Requirement already satisfied, skipping upgrade: pyparsing!=2.0.4,!=2.1.2,!=2.1.6,>=2.0.1 in /usr/local/lib/python3.6/dist-packages (from matplotlib->gluoncv->monk-colab) (2.4.7)\n",
            "Requirement already satisfied, skipping upgrade: python-dateutil>=2.1 in /usr/local/lib/python3.6/dist-packages (from matplotlib->gluoncv->monk-colab) (2.8.1)\n",
            "Requirement already satisfied, skipping upgrade: cycler>=0.10 in /usr/local/lib/python3.6/dist-packages (from matplotlib->gluoncv->monk-colab) (0.10.0)\n",
            "Requirement already satisfied, skipping upgrade: kiwisolver>=1.0.1 in /usr/local/lib/python3.6/dist-packages (from matplotlib->gluoncv->monk-colab) (1.2.0)\n",
            "Requirement already satisfied, skipping upgrade: six>=1.5 in /usr/local/lib/python3.6/dist-packages (from python-dateutil>=2.1->matplotlib->gluoncv->monk-colab) (1.15.0)\n",
            "Building wheels for collected packages: GPUtil\n",
            "  Building wheel for GPUtil (setup.py) ... \u001b[?25l\u001b[?25hdone\n",
            "  Created wheel for GPUtil: filename=GPUtil-1.4.0-cp36-none-any.whl size=7411 sha256=5b561e8ee6e73cfced9dcafa3780463e8f95e041d5c71bef312d6043e1107d53\n",
            "  Stored in directory: /root/.cache/pip/wheels/3d/77/07/80562de4bb0786e5ea186911a2c831fdd0018bda69beab71fd\n",
            "Successfully built GPUtil\n",
            "Installing collected packages: portalocker, gluoncv, GPUtil, pylg, graphviz, mxnet-cu101, monk-colab\n",
            "  Found existing installation: graphviz 0.10.1\n",
            "    Uninstalling graphviz-0.10.1:\n",
            "      Successfully uninstalled graphviz-0.10.1\n"
          ],
          "name": "stdout"
        }
      ]
    },
    {
      "cell_type": "code",
      "metadata": {
        "id": "YTsnzkqoOvnD",
        "outputId": "ea7cd22e-a86f-4779-9d95-9f6ca01cd440",
        "colab": {
          "base_uri": "https://localhost:8080/",
          "height": 123
        }
      },
      "source": [
        "# !pip install netron"
      ],
      "execution_count": null,
      "outputs": [
        {
          "output_type": "stream",
          "text": [
            "Collecting netron\n",
            "\u001b[?25l  Downloading https://files.pythonhosted.org/packages/51/b1/9e32ef68f069d020584c7b13e192a9fa20cbebe186b7ec8ab2d1d4ddb58e/netron-4.5.6-py2.py3-none-any.whl (1.3MB)\n",
            "\r\u001b[K     |▎                               | 10kB 26.0MB/s eta 0:00:01\r\u001b[K     |▌                               | 20kB 6.0MB/s eta 0:00:01\r\u001b[K     |▊                               | 30kB 7.2MB/s eta 0:00:01\r\u001b[K     |█                               | 40kB 7.7MB/s eta 0:00:01\r\u001b[K     |█▎                              | 51kB 7.2MB/s eta 0:00:01\r\u001b[K     |█▌                              | 61kB 8.1MB/s eta 0:00:01\r\u001b[K     |█▊                              | 71kB 7.9MB/s eta 0:00:01\r\u001b[K     |██                              | 81kB 8.9MB/s eta 0:00:01\r\u001b[K     |██▎                             | 92kB 8.5MB/s eta 0:00:01\r\u001b[K     |██▌                             | 102kB 8.4MB/s eta 0:00:01\r\u001b[K     |██▊                             | 112kB 8.4MB/s eta 0:00:01\r\u001b[K     |███                             | 122kB 8.4MB/s eta 0:00:01\r\u001b[K     |███▎                            | 133kB 8.4MB/s eta 0:00:01\r\u001b[K     |███▌                            | 143kB 8.4MB/s eta 0:00:01\r\u001b[K     |███▊                            | 153kB 8.4MB/s eta 0:00:01\r\u001b[K     |████                            | 163kB 8.4MB/s eta 0:00:01\r\u001b[K     |████▏                           | 174kB 8.4MB/s eta 0:00:01\r\u001b[K     |████▌                           | 184kB 8.4MB/s eta 0:00:01\r\u001b[K     |████▊                           | 194kB 8.4MB/s eta 0:00:01\r\u001b[K     |█████                           | 204kB 8.4MB/s eta 0:00:01\r\u001b[K     |█████▏                          | 215kB 8.4MB/s eta 0:00:01\r\u001b[K     |█████▌                          | 225kB 8.4MB/s eta 0:00:01\r\u001b[K     |█████▊                          | 235kB 8.4MB/s eta 0:00:01\r\u001b[K     |██████                          | 245kB 8.4MB/s eta 0:00:01\r\u001b[K     |██████▏                         | 256kB 8.4MB/s eta 0:00:01\r\u001b[K     |██████▌                         | 266kB 8.4MB/s eta 0:00:01\r\u001b[K     |██████▊                         | 276kB 8.4MB/s eta 0:00:01\r\u001b[K     |███████                         | 286kB 8.4MB/s eta 0:00:01\r\u001b[K     |███████▏                        | 296kB 8.4MB/s eta 0:00:01\r\u001b[K     |███████▍                        | 307kB 8.4MB/s eta 0:00:01\r\u001b[K     |███████▊                        | 317kB 8.4MB/s eta 0:00:01\r\u001b[K     |████████                        | 327kB 8.4MB/s eta 0:00:01\r\u001b[K     |████████▏                       | 337kB 8.4MB/s eta 0:00:01\r\u001b[K     |████████▍                       | 348kB 8.4MB/s eta 0:00:01\r\u001b[K     |████████▊                       | 358kB 8.4MB/s eta 0:00:01\r\u001b[K     |█████████                       | 368kB 8.4MB/s eta 0:00:01\r\u001b[K     |█████████▏                      | 378kB 8.4MB/s eta 0:00:01\r\u001b[K     |█████████▍                      | 389kB 8.4MB/s eta 0:00:01\r\u001b[K     |█████████▊                      | 399kB 8.4MB/s eta 0:00:01\r\u001b[K     |██████████                      | 409kB 8.4MB/s eta 0:00:01\r\u001b[K     |██████████▏                     | 419kB 8.4MB/s eta 0:00:01\r\u001b[K     |██████████▍                     | 430kB 8.4MB/s eta 0:00:01\r\u001b[K     |██████████▊                     | 440kB 8.4MB/s eta 0:00:01\r\u001b[K     |███████████                     | 450kB 8.4MB/s eta 0:00:01\r\u001b[K     |███████████▏                    | 460kB 8.4MB/s eta 0:00:01\r\u001b[K     |███████████▍                    | 471kB 8.4MB/s eta 0:00:01\r\u001b[K     |███████████▋                    | 481kB 8.4MB/s eta 0:00:01\r\u001b[K     |████████████                    | 491kB 8.4MB/s eta 0:00:01\r\u001b[K     |████████████▏                   | 501kB 8.4MB/s eta 0:00:01\r\u001b[K     |████████████▍                   | 512kB 8.4MB/s eta 0:00:01\r\u001b[K     |████████████▋                   | 522kB 8.4MB/s eta 0:00:01\r\u001b[K     |█████████████                   | 532kB 8.4MB/s eta 0:00:01\r\u001b[K     |█████████████▏                  | 542kB 8.4MB/s eta 0:00:01\r\u001b[K     |█████████████▍                  | 552kB 8.4MB/s eta 0:00:01\r\u001b[K     |█████████████▋                  | 563kB 8.4MB/s eta 0:00:01\r\u001b[K     |██████████████                  | 573kB 8.4MB/s eta 0:00:01\r\u001b[K     |██████████████▏                 | 583kB 8.4MB/s eta 0:00:01\r\u001b[K     |██████████████▍                 | 593kB 8.4MB/s eta 0:00:01\r\u001b[K     |██████████████▋                 | 604kB 8.4MB/s eta 0:00:01\r\u001b[K     |██████████████▉                 | 614kB 8.4MB/s eta 0:00:01\r\u001b[K     |███████████████▏                | 624kB 8.4MB/s eta 0:00:01\r\u001b[K     |███████████████▍                | 634kB 8.4MB/s eta 0:00:01\r\u001b[K     |███████████████▋                | 645kB 8.4MB/s eta 0:00:01\r\u001b[K     |███████████████▉                | 655kB 8.4MB/s eta 0:00:01\r\u001b[K     |████████████████▏               | 665kB 8.4MB/s eta 0:00:01\r\u001b[K     |████████████████▍               | 675kB 8.4MB/s eta 0:00:01\r\u001b[K     |████████████████▋               | 686kB 8.4MB/s eta 0:00:01\r\u001b[K     |████████████████▉               | 696kB 8.4MB/s eta 0:00:01\r\u001b[K     |█████████████████▏              | 706kB 8.4MB/s eta 0:00:01\r\u001b[K     |█████████████████▍              | 716kB 8.4MB/s eta 0:00:01\r\u001b[K     |█████████████████▋              | 727kB 8.4MB/s eta 0:00:01\r\u001b[K     |█████████████████▉              | 737kB 8.4MB/s eta 0:00:01\r\u001b[K     |██████████████████              | 747kB 8.4MB/s eta 0:00:01\r\u001b[K     |██████████████████▍             | 757kB 8.4MB/s eta 0:00:01\r\u001b[K     |██████████████████▋             | 768kB 8.4MB/s eta 0:00:01\r\u001b[K     |██████████████████▉             | 778kB 8.4MB/s eta 0:00:01\r\u001b[K     |███████████████████             | 788kB 8.4MB/s eta 0:00:01\r\u001b[K     |███████████████████▍            | 798kB 8.4MB/s eta 0:00:01\r\u001b[K     |███████████████████▋            | 808kB 8.4MB/s eta 0:00:01\r\u001b[K     |███████████████████▉            | 819kB 8.4MB/s eta 0:00:01\r\u001b[K     |████████████████████            | 829kB 8.4MB/s eta 0:00:01\r\u001b[K     |████████████████████▍           | 839kB 8.4MB/s eta 0:00:01\r\u001b[K     |████████████████████▋           | 849kB 8.4MB/s eta 0:00:01\r\u001b[K     |████████████████████▉           | 860kB 8.4MB/s eta 0:00:01\r\u001b[K     |█████████████████████           | 870kB 8.4MB/s eta 0:00:01\r\u001b[K     |█████████████████████▍          | 880kB 8.4MB/s eta 0:00:01\r\u001b[K     |█████████████████████▋          | 890kB 8.4MB/s eta 0:00:01\r\u001b[K     |█████████████████████▉          | 901kB 8.4MB/s eta 0:00:01\r\u001b[K     |██████████████████████          | 911kB 8.4MB/s eta 0:00:01\r\u001b[K     |██████████████████████▎         | 921kB 8.4MB/s eta 0:00:01\r\u001b[K     |██████████████████████▋         | 931kB 8.4MB/s eta 0:00:01\r\u001b[K     |██████████████████████▉         | 942kB 8.4MB/s eta 0:00:01\r\u001b[K     |███████████████████████         | 952kB 8.4MB/s eta 0:00:01\r\u001b[K     |███████████████████████▎        | 962kB 8.4MB/s eta 0:00:01\r\u001b[K     |███████████████████████▋        | 972kB 8.4MB/s eta 0:00:01\r\u001b[K     |███████████████████████▉        | 983kB 8.4MB/s eta 0:00:01\r\u001b[K     |████████████████████████        | 993kB 8.4MB/s eta 0:00:01\r\u001b[K     |████████████████████████▎       | 1.0MB 8.4MB/s eta 0:00:01\r\u001b[K     |████████████████████████▋       | 1.0MB 8.4MB/s eta 0:00:01\r\u001b[K     |████████████████████████▉       | 1.0MB 8.4MB/s eta 0:00:01\r\u001b[K     |█████████████████████████       | 1.0MB 8.4MB/s eta 0:00:01\r\u001b[K     |█████████████████████████▎      | 1.0MB 8.4MB/s eta 0:00:01\r\u001b[K     |█████████████████████████▌      | 1.1MB 8.4MB/s eta 0:00:01\r\u001b[K     |█████████████████████████▉      | 1.1MB 8.4MB/s eta 0:00:01\r\u001b[K     |██████████████████████████      | 1.1MB 8.4MB/s eta 0:00:01\r\u001b[K     |██████████████████████████▎     | 1.1MB 8.4MB/s eta 0:00:01\r\u001b[K     |██████████████████████████▌     | 1.1MB 8.4MB/s eta 0:00:01\r\u001b[K     |██████████████████████████▉     | 1.1MB 8.4MB/s eta 0:00:01\r\u001b[K     |███████████████████████████     | 1.1MB 8.4MB/s eta 0:00:01\r\u001b[K     |███████████████████████████▎    | 1.1MB 8.4MB/s eta 0:00:01\r\u001b[K     |███████████████████████████▌    | 1.1MB 8.4MB/s eta 0:00:01\r\u001b[K     |███████████████████████████▉    | 1.1MB 8.4MB/s eta 0:00:01\r\u001b[K     |████████████████████████████    | 1.2MB 8.4MB/s eta 0:00:01\r\u001b[K     |████████████████████████████▎   | 1.2MB 8.4MB/s eta 0:00:01\r\u001b[K     |████████████████████████████▌   | 1.2MB 8.4MB/s eta 0:00:01\r\u001b[K     |████████████████████████████▊   | 1.2MB 8.4MB/s eta 0:00:01\r\u001b[K     |█████████████████████████████   | 1.2MB 8.4MB/s eta 0:00:01\r\u001b[K     |█████████████████████████████▎  | 1.2MB 8.4MB/s eta 0:00:01\r\u001b[K     |█████████████████████████████▌  | 1.2MB 8.4MB/s eta 0:00:01\r\u001b[K     |█████████████████████████████▊  | 1.2MB 8.4MB/s eta 0:00:01\r\u001b[K     |██████████████████████████████  | 1.2MB 8.4MB/s eta 0:00:01\r\u001b[K     |██████████████████████████████▎ | 1.2MB 8.4MB/s eta 0:00:01\r\u001b[K     |██████████████████████████████▌ | 1.3MB 8.4MB/s eta 0:00:01\r\u001b[K     |██████████████████████████████▊ | 1.3MB 8.4MB/s eta 0:00:01\r\u001b[K     |███████████████████████████████ | 1.3MB 8.4MB/s eta 0:00:01\r\u001b[K     |███████████████████████████████▎| 1.3MB 8.4MB/s eta 0:00:01\r\u001b[K     |███████████████████████████████▌| 1.3MB 8.4MB/s eta 0:00:01\r\u001b[K     |███████████████████████████████▊| 1.3MB 8.4MB/s eta 0:00:01\r\u001b[K     |████████████████████████████████| 1.3MB 8.4MB/s \n",
            "\u001b[?25hInstalling collected packages: netron\n",
            "Successfully installed netron-4.5.6\n"
          ],
          "name": "stdout"
        }
      ]
    },
    {
      "cell_type": "code",
      "metadata": {
        "id": "WjJakn4p0PVb",
        "outputId": "3cdfa74e-ae44-4197-e722-4f0f26c71e6d",
        "colab": {
          "base_uri": "https://localhost:8080/",
          "height": 155
        }
      },
      "source": [
        "# !git clone https://github.com/Tessellate-Imaging/monk_v1.git"
      ],
      "execution_count": null,
      "outputs": [
        {
          "output_type": "stream",
          "text": [
            "Cloning into 'monk_v1'...\n",
            "remote: Enumerating objects: 194, done.\u001b[K\n",
            "remote: Counting objects: 100% (194/194), done.\u001b[K\n",
            "remote: Compressing objects: 100% (142/142), done.\u001b[K\n",
            "remote: Total 6264 (delta 140), reused 89 (delta 52), pack-reused 6070\u001b[K\n",
            "Receiving objects: 100% (6264/6264), 184.88 MiB | 17.87 MiB/s, done.\n",
            "Resolving deltas: 100% (4261/4261), done.\n",
            "Checking out files: 100% (1339/1339), done.\n"
          ],
          "name": "stdout"
        }
      ]
    },
    {
      "cell_type": "code",
      "metadata": {
        "id": "lUGS-s5iQQlS",
        "outputId": "b0cb0a16-a563-4587-a9dd-0b3b1de7391c",
        "colab": {
          "base_uri": "https://localhost:8080/",
          "height": 400
        }
      },
      "source": [
        "# !cd monk_v1/installation/Misc && pip install -r requirements_colab.txt"
      ],
      "execution_count": null,
      "outputs": [
        {
          "output_type": "stream",
          "text": [
            "Requirement already satisfied: GPUtil in /usr/local/lib/python3.6/dist-packages (from -r requirements_colab.txt (line 1)) (1.4.0)\n",
            "Requirement already satisfied: mxnet-cu101 in /usr/local/lib/python3.6/dist-packages (from -r requirements_colab.txt (line 2)) (1.7.0)\n",
            "Requirement already satisfied: pylg in /usr/local/lib/python3.6/dist-packages (from -r requirements_colab.txt (line 3)) (1.3.3)\n",
            "Requirement already satisfied: gluoncv in /usr/local/lib/python3.6/dist-packages (from -r requirements_colab.txt (line 4)) (0.8.0)\n",
            "Requirement already satisfied: requests<3,>=2.20.0 in /usr/local/lib/python3.6/dist-packages (from mxnet-cu101->-r requirements_colab.txt (line 2)) (2.23.0)\n",
            "Requirement already satisfied: numpy<2.0.0,>1.16.0 in /usr/local/lib/python3.6/dist-packages (from mxnet-cu101->-r requirements_colab.txt (line 2)) (1.18.5)\n",
            "Requirement already satisfied: graphviz<0.9.0,>=0.8.1 in /usr/local/lib/python3.6/dist-packages (from mxnet-cu101->-r requirements_colab.txt (line 2)) (0.8.4)\n",
            "Requirement already satisfied: matplotlib in /usr/local/lib/python3.6/dist-packages (from gluoncv->-r requirements_colab.txt (line 4)) (3.2.2)\n",
            "Requirement already satisfied: tqdm in /usr/local/lib/python3.6/dist-packages (from gluoncv->-r requirements_colab.txt (line 4)) (4.41.1)\n",
            "Requirement already satisfied: scipy in /usr/local/lib/python3.6/dist-packages (from gluoncv->-r requirements_colab.txt (line 4)) (1.4.1)\n",
            "Requirement already satisfied: portalocker in /usr/local/lib/python3.6/dist-packages (from gluoncv->-r requirements_colab.txt (line 4)) (2.0.0)\n",
            "Requirement already satisfied: Pillow in /usr/local/lib/python3.6/dist-packages (from gluoncv->-r requirements_colab.txt (line 4)) (7.0.0)\n",
            "Requirement already satisfied: certifi>=2017.4.17 in /usr/local/lib/python3.6/dist-packages (from requests<3,>=2.20.0->mxnet-cu101->-r requirements_colab.txt (line 2)) (2020.6.20)\n",
            "Requirement already satisfied: urllib3!=1.25.0,!=1.25.1,<1.26,>=1.21.1 in /usr/local/lib/python3.6/dist-packages (from requests<3,>=2.20.0->mxnet-cu101->-r requirements_colab.txt (line 2)) (1.24.3)\n",
            "Requirement already satisfied: chardet<4,>=3.0.2 in /usr/local/lib/python3.6/dist-packages (from requests<3,>=2.20.0->mxnet-cu101->-r requirements_colab.txt (line 2)) (3.0.4)\n",
            "Requirement already satisfied: idna<3,>=2.5 in /usr/local/lib/python3.6/dist-packages (from requests<3,>=2.20.0->mxnet-cu101->-r requirements_colab.txt (line 2)) (2.10)\n",
            "Requirement already satisfied: pyparsing!=2.0.4,!=2.1.2,!=2.1.6,>=2.0.1 in /usr/local/lib/python3.6/dist-packages (from matplotlib->gluoncv->-r requirements_colab.txt (line 4)) (2.4.7)\n",
            "Requirement already satisfied: kiwisolver>=1.0.1 in /usr/local/lib/python3.6/dist-packages (from matplotlib->gluoncv->-r requirements_colab.txt (line 4)) (1.2.0)\n",
            "Requirement already satisfied: cycler>=0.10 in /usr/local/lib/python3.6/dist-packages (from matplotlib->gluoncv->-r requirements_colab.txt (line 4)) (0.10.0)\n",
            "Requirement already satisfied: python-dateutil>=2.1 in /usr/local/lib/python3.6/dist-packages (from matplotlib->gluoncv->-r requirements_colab.txt (line 4)) (2.8.1)\n",
            "Requirement already satisfied: six in /usr/local/lib/python3.6/dist-packages (from cycler>=0.10->matplotlib->gluoncv->-r requirements_colab.txt (line 4)) (1.15.0)\n"
          ],
          "name": "stdout"
        }
      ]
    },
    {
      "cell_type": "code",
      "metadata": {
        "id": "CyNd8rum0TY1"
      },
      "source": [
        "# import sys\n",
        "# sys.path.append(\"monk_v1/\")"
      ],
      "execution_count": null,
      "outputs": []
    },
    {
      "cell_type": "code",
      "metadata": {
        "id": "EbaLaGe20XoM"
      },
      "source": [
        "from monk.keras_prototype import prototype\n",
        "# from monk.gluon_prototype import prototype"
      ],
      "execution_count": null,
      "outputs": []
    },
    {
      "cell_type": "code",
      "metadata": {
        "id": "j44eH1w80auZ"
      },
      "source": [
        "gtf = prototype(verbose=1)\n",
        "gtf.Prototype(\"sample-project-1\", \"sample-experiment-1\")"
      ],
      "execution_count": null,
      "outputs": []
    },
    {
      "cell_type": "code",
      "metadata": {
        "id": "jxXMICZFUC-H"
      },
      "source": [
        "gtf.List_Models()"
      ],
      "execution_count": null,
      "outputs": []
    },
    {
      "cell_type": "code",
      "metadata": {
        "id": "TbXzKr6z0hZS",
        "colab": {
          "background_save": true
        }
      },
      "source": [
        "import os\n",
        "if not os.path.isfile(\"datasets.zip\"):\n",
        "    os.system(\"! wget --load-cookies /tmp/cookies.txt \\\"https://docs.google.com/uc?export=download&confirm=$(wget --save-cookies /tmp/cookies.txt --keep-session-cookies --no-check-certificate 'https://docs.google.com/uc?export=download&id=1rG-U1mS8hDU7_wM56a1kc-li_zHLtbq2' -O- | sed -rn 's/.*confirm=([0-9A-Za-z_]+).*/\\1\\n/p')&id=1rG-U1mS8hDU7_wM56a1kc-li_zHLtbq2\\\" -O datasets.zip && rm -rf /tmp/cookies.txt\")\n",
        "if not os.path.isdir(\"datasets\"):    \n",
        "    os.system(\"! unzip -qq datasets.zip\")"
      ],
      "execution_count": null,
      "outputs": []
    },
    {
      "cell_type": "code",
      "metadata": {
        "id": "gpeWksRq0rJf",
        "outputId": "24b4fef3-3ed3-4e2b-d828-60fa6b1db597",
        "colab": {
          "base_uri": "https://localhost:8080/",
          "height": 1000
        }
      },
      "source": [
        "gtf.Default(dataset_path=\"datasets/dataset_cats_dogs_train\", \n",
        "            model_name=\"resnet152_v1\", \n",
        "            num_epochs=10);"
      ],
      "execution_count": null,
      "outputs": [
        {
          "output_type": "stream",
          "text": [
            "Dataset Details\n",
            "    Train path:     datasets/dataset_cats_dogs_train\n",
            "    Val path:       None\n",
            "    CSV train path: None\n",
            "    CSV val path:   None\n",
            "    Label Type:     single\n",
            "\n",
            "Dataset Params\n",
            "    Input Size:   224\n",
            "    Batch Size:   4\n",
            "    Data Shuffle: True\n",
            "    Processors:   2\n",
            "    Train-val split:   0.7\n",
            "\n",
            "Pre-Composed Train Transforms\n",
            "[{'RandomHorizontalFlip': {'p': 0.8}}, {'Normalize': {'mean': [0.485, 0.456, 0.406], 'std': [0.229, 0.224, 0.225]}}]\n",
            "\n",
            "Pre-Composed Val Transforms\n",
            "[{'RandomHorizontalFlip': {'p': 0.8}}, {'Normalize': {'mean': [0.485, 0.456, 0.406], 'std': [0.229, 0.224, 0.225]}}]\n",
            "\n",
            "Dataset Numbers\n",
            "    Num train images: 140\n",
            "    Num val images:   60\n",
            "    Num classes:      2\n",
            "\n",
            "Model Params\n",
            "    Model name:           resnet152_v1\n",
            "    Use Gpu:              True\n",
            "    Use pretrained:       True\n",
            "    Freeze base network:  True\n",
            "\n",
            "Model Details\n",
            "    Loading pretrained model\n",
            "Downloading /root/.mxnet/models/resnet152_v1-acfd0970.zip from https://apache-mxnet.s3-accelerate.dualstack.amazonaws.com/gluon/models/resnet152_v1-acfd0970.zip...\n"
          ],
          "name": "stdout"
        },
        {
          "output_type": "stream",
          "text": [
            "100%|██████████| 218951/218951 [00:03<00:00, 71960.93KB/s]\n"
          ],
          "name": "stderr"
        },
        {
          "output_type": "stream",
          "text": [
            "    Model Loaded on device\n",
            "        Model name:                           resnet152_v1\n",
            "        Num of potentially trainable layers:  311\n",
            "        Num of actual trainable layers:       1\n",
            "\n",
            "Optimizer\n",
            "    Name:          sgd\n",
            "    Learning rate: 0.01\n",
            "    Params:        {'lr': 0.01, 'momentum': 0, 'weight_decay': 0, 'momentum_dampening_rate': 0, 'clipnorm': 0.0, 'clipvalue': 0.0}\n",
            "\n",
            "\n",
            "\n",
            "Learning rate scheduler\n",
            "    Name:   steplr\n",
            "    Params: {'step_size': 8, 'gamma': 0.1, 'last_epoch': -1}\n",
            "\n",
            "Loss\n",
            "    Name:          softmaxcrossentropy\n",
            "    Params:        {'weight': None, 'batch_axis': 0, 'axis_to_sum_over': -1, 'label_as_categories': True, 'label_smoothing': False}\n",
            "\n",
            "Training params\n",
            "    Num Epochs: 50\n",
            "\n",
            "Display params\n",
            "    Display progress:          True\n",
            "    Display progress realtime: True\n",
            "    Save Training logs:        True\n",
            "    Save Intermediate models:  True\n",
            "    Intermediate model prefix: intermediate_model_\n",
            "\n"
          ],
          "name": "stdout"
        },
        {
          "output_type": "stream",
          "text": [
            "/usr/local/lib/python3.6/dist-packages/monk/system/imports.py:160: UserWarning: ArgumentWarning: clipnorm and clipvalue are active only for keras in current version of Monk\n",
            "  warnings.warn(msg)\n",
            "/usr/local/lib/python3.6/dist-packages/monk/system/imports.py:160: UserWarning: ArgumentWarning: momentum_dampening_rate is active only for pytorch in current version of Monk\n",
            "  warnings.warn(msg)\n"
          ],
          "name": "stderr"
        }
      ]
    },
    {
      "cell_type": "code",
      "metadata": {
        "id": "1iK0iJLpdzX8"
      },
      "source": [
        ""
      ],
      "execution_count": null,
      "outputs": []
    },
    {
      "cell_type": "code",
      "metadata": {
        "id": "OKckX-u7OpZV"
      },
      "source": [
        "\n",
        "# gtf.Visualize_With_Netron(data_shape=(3, 224, 224))"
      ],
      "execution_count": null,
      "outputs": []
    },
    {
      "cell_type": "code",
      "metadata": {
        "id": "S1JlMiSnPI7B"
      },
      "source": [
        "# from IPython.display import Image\n",
        "# Image(filename='imgs/model.png')"
      ],
      "execution_count": null,
      "outputs": []
    },
    {
      "cell_type": "code",
      "metadata": {
        "id": "1WpcCGNnOplK"
      },
      "source": [
        ""
      ],
      "execution_count": null,
      "outputs": []
    },
    {
      "cell_type": "code",
      "metadata": {
        "id": "MSSNgGC4MUSL",
        "outputId": "11cb5692-12f4-46d5-a014-cce8ecbfade6",
        "colab": {
          "base_uri": "https://localhost:8080/",
          "height": 68
        }
      },
      "source": [
        "gtf.Estimate_Train_Time(num_epochs=50)"
      ],
      "execution_count": null,
      "outputs": [
        {
          "output_type": "stream",
          "text": [
            "Training time estimate\n",
            "    50 Epochs: Approx. 13 Min\n",
            "\n"
          ],
          "name": "stdout"
        }
      ]
    },
    {
      "cell_type": "code",
      "metadata": {
        "id": "OkkfgetcCFKW",
        "outputId": "17757df4-6894-458f-99fa-f0efaa8b1304",
        "colab": {
          "base_uri": "https://localhost:8080/",
          "height": 1000
        }
      },
      "source": [
        "gtf.Summary()"
      ],
      "execution_count": null,
      "outputs": [
        {
          "output_type": "stream",
          "text": [
            "\n",
            "\n",
            "Experiment Summary\n",
            "\n",
            "System\n",
            "    Project Name:    sample-project-1\n",
            "    Project Dir:     workspace/sample-project-1/\n",
            "    Experiment Name: sample-experiment-1\n",
            "    Experiment Dir:  workspace/sample-project-1/sample-experiment-1/\n",
            "    Library:         Mxnet\n",
            "    Origin:          ['New', 'New']\n",
            "\n",
            "Dataset\n",
            "    Status:       True\n",
            "    Dataset Type: train\n",
            "    Train path:   datasets/dataset_cats_dogs_train\n",
            "    Val path:     None\n",
            "    Test path:    False\n",
            "    CSV Train:    None\n",
            "    CSV Val:      None\n",
            "    CSV Test:     False\n",
            "\n",
            "Dataset Parameters:\n",
            "    Input Size:   224\n",
            "    Batch Size:   4\n",
            "    Shuffle:      True\n",
            "    Processors:   2\n",
            "    Num Classes:  2\n",
            "\n",
            "Dataset Transforms:\n",
            "    Train transforms: [{'RandomHorizontalFlip': {'p': 0.8}}, {'Normalize': {'mean': [0.485, 0.456, 0.406], 'std': [0.229, 0.224, 0.225]}}]\n",
            "    Val transforms:   [{'RandomHorizontalFlip': {'p': 0.8}}, {'Normalize': {'mean': [0.485, 0.456, 0.406], 'std': [0.229, 0.224, 0.225]}}]\n",
            "    Test transforms:  [{'Normalize': {'mean': [0.485, 0.456, 0.406], 'std': [0.229, 0.224, 0.225]}}]\n",
            "\n",
            "Model\n",
            "    Status:\n",
            "    Model Name:                     resnet152_v1\n",
            "    Use Gpu:                        True\n",
            "    Use pretrained weights:         True\n",
            "    Base network weights freezed:   True\n",
            "    Number of trainable parameters: 1\n",
            "\n",
            "Hyper-Parameters\n",
            "    Status: True\n",
            "    Optimizer:                {'name': 'sgd', 'params': {'lr': 0.01, 'momentum': 0, 'weight_decay': 0, 'momentum_dampening_rate': 0, 'clipnorm': 0.0, 'clipvalue': 0.0}}\n",
            "    Learning Rate Scheduler:  {'name': 'steplr', 'params': {'step_size': 8, 'gamma': 0.1, 'last_epoch': -1}}\n",
            "    loss:                     {'name': 'softmaxcrossentropy', 'params': {'weight': None, 'batch_axis': 0, 'axis_to_sum_over': -1, 'label_as_categories': True, 'label_smoothing': False}}\n",
            "    Num epochs:               50\n",
            "\n",
            "\n",
            "Dataset Settings\n",
            "    Status: True\n",
            "    Display progress:          True\n",
            "    Display progress realtime: True\n",
            "    Save intermediate models:  True\n",
            "    Save training logs:        True\n",
            "    Intermediate model prefix: intermediate_model_\n",
            "\n",
            "\n",
            "Training\n",
            "    Status: False\n",
            "\n",
            "External Evaluation\n",
            "    Status: False\n",
            "\n"
          ],
          "name": "stdout"
        }
      ]
    },
    {
      "cell_type": "code",
      "metadata": {
        "id": "Skv-OejZ1fZ-",
        "outputId": "ff9cf68d-815b-479f-a8c5-f88962ef6929",
        "colab": {
          "base_uri": "https://localhost:8080/",
          "height": 1000
        }
      },
      "source": [
        "gtf.Train()"
      ],
      "execution_count": null,
      "outputs": [
        {
          "output_type": "stream",
          "text": [
            "  6%|▌         | 2/35 [00:00<00:01, 17.58it/s]"
          ],
          "name": "stderr"
        },
        {
          "output_type": "stream",
          "text": [
            "Training Start\n",
            "    Epoch 1/50\n",
            "    ----------\n"
          ],
          "name": "stdout"
        },
        {
          "output_type": "stream",
          "text": [
            " 97%|█████████▋| 34/35 [00:02<00:00, 15.41it/s]\n",
            "  0%|          | 0/15 [00:00<?, ?it/s]\u001b[A\n",
            " 13%|█▎        | 2/15 [00:00<00:00, 19.47it/s]\u001b[A\n",
            " 27%|██▋       | 4/15 [00:00<00:00, 17.40it/s]\u001b[A\n",
            " 40%|████      | 6/15 [00:00<00:00, 16.05it/s]\u001b[A\n",
            " 53%|█████▎    | 8/15 [00:00<00:00, 15.69it/s]\u001b[A\n",
            " 67%|██████▋   | 10/15 [00:00<00:00, 15.44it/s]\u001b[A\n",
            " 80%|████████  | 12/15 [00:00<00:00, 15.50it/s]\u001b[A\n",
            "100%|██████████| 15/15 [00:01<00:00, 14.63it/s]\n",
            "\n",
            "  0%|          | 0/35 [00:00<?, ?it/s]\u001b[A\n",
            "100%|██████████| 35/35 [00:06<00:00,  5.56it/s]\n",
            "  6%|▌         | 2/35 [00:00<00:02, 14.73it/s]"
          ],
          "name": "stderr"
        },
        {
          "output_type": "stream",
          "text": [
            "\n",
            "\n",
            "    curr_lr - 0.01\n",
            "    [Epoch 1] Train-acc: 0.793, Train-loss: 0.405 | Val-acc: 0.966667, Val-loss: 0.206, | time: 6.3 sec\n",
            "\n",
            "    Epoch 2/50\n",
            "    ----------\n"
          ],
          "name": "stdout"
        },
        {
          "output_type": "stream",
          "text": [
            " 97%|█████████▋| 34/35 [00:02<00:00, 15.42it/s]\n",
            "  0%|          | 0/15 [00:00<?, ?it/s]\u001b[A\n",
            " 20%|██        | 3/15 [00:00<00:00, 17.52it/s]\u001b[A\n",
            " 33%|███▎      | 5/15 [00:00<00:00, 16.84it/s]\u001b[A\n",
            " 47%|████▋     | 7/15 [00:00<00:00, 16.09it/s]\u001b[A\n",
            " 60%|██████    | 9/15 [00:00<00:00, 15.69it/s]\u001b[A\n",
            " 73%|███████▎  | 11/15 [00:00<00:00, 15.53it/s]\u001b[A\n",
            " 87%|████████▋ | 13/15 [00:00<00:00, 15.72it/s]\u001b[A\n",
            "100%|██████████| 15/15 [00:01<00:00, 14.91it/s]\n",
            "\n",
            "  0%|          | 0/35 [00:00<?, ?it/s]\u001b[A\n",
            "  6%|▌         | 2/35 [00:00<00:02, 16.11it/s]\u001b[A"
          ],
          "name": "stderr"
        },
        {
          "output_type": "stream",
          "text": [
            "\n",
            "\n",
            "    curr_lr - 0.01\n",
            "    [Epoch 2] Train-acc: 0.921, Train-loss: 0.212 | Val-acc: 0.966667, Val-loss: 0.133, | time: 5.3 sec\n",
            "\n",
            "    Epoch 3/50\n",
            "    ----------\n"
          ],
          "name": "stdout"
        },
        {
          "output_type": "stream",
          "text": [
            "\n",
            " 11%|█▏        | 4/35 [00:00<00:02, 15.38it/s]\u001b[A\n",
            " 17%|█▋        | 6/35 [00:00<00:01, 14.67it/s]\u001b[A\n",
            " 23%|██▎       | 8/35 [00:00<00:01, 14.31it/s]\u001b[A\n",
            " 29%|██▊       | 10/35 [00:00<00:01, 14.27it/s]\u001b[A\n",
            " 34%|███▍      | 12/35 [00:00<00:01, 14.31it/s]\u001b[A\n",
            " 40%|████      | 14/35 [00:00<00:01, 14.47it/s]\u001b[A\n",
            " 46%|████▌     | 16/35 [00:01<00:01, 14.64it/s]\u001b[A\n",
            " 51%|█████▏    | 18/35 [00:01<00:01, 14.62it/s]\u001b[A\n",
            " 57%|█████▋    | 20/35 [00:01<00:01, 14.04it/s]\u001b[A\n",
            " 63%|██████▎   | 22/35 [00:01<00:00, 14.10it/s]\u001b[A\n",
            " 69%|██████▊   | 24/35 [00:01<00:00, 13.82it/s]\u001b[A\n",
            " 74%|███████▍  | 26/35 [00:01<00:00, 14.05it/s]\u001b[A\n",
            " 80%|████████  | 28/35 [00:01<00:00, 14.05it/s]\u001b[A\n",
            " 86%|████████▌ | 30/35 [00:02<00:00, 14.04it/s]\u001b[A\n",
            " 91%|█████████▏| 32/35 [00:02<00:00, 14.20it/s]\u001b[A\n",
            " 97%|█████████▋| 34/35 [00:02<00:00, 14.97it/s]\u001b[A\n",
            "\n",
            "  0%|          | 0/15 [00:00<?, ?it/s]\u001b[A\u001b[A\n",
            "\n",
            " 13%|█▎        | 2/15 [00:00<00:00, 19.06it/s]\u001b[A\u001b[A\n",
            "\n",
            " 27%|██▋       | 4/15 [00:00<00:00, 17.61it/s]\u001b[A\u001b[A\n",
            "\n",
            " 40%|████      | 6/15 [00:00<00:00, 16.87it/s]\u001b[A\u001b[A\n",
            "\n",
            " 53%|█████▎    | 8/15 [00:00<00:00, 16.31it/s]\u001b[A\u001b[A\n",
            "\n",
            " 67%|██████▋   | 10/15 [00:00<00:00, 15.81it/s]\u001b[A\u001b[A\n",
            "\n",
            " 80%|████████  | 12/15 [00:00<00:00, 15.44it/s]\u001b[A\u001b[A\n",
            "\n",
            "100%|██████████| 15/15 [00:01<00:00, 14.89it/s]\n",
            "\n",
            "\n",
            "  0%|          | 0/35 [00:00<?, ?it/s]\u001b[A\u001b[A\n",
            "\n",
            "100%|██████████| 35/35 [00:06<00:00,  5.20it/s]\n",
            "\n",
            "  6%|▌         | 2/35 [00:00<00:02, 16.37it/s]\u001b[A"
          ],
          "name": "stderr"
        },
        {
          "output_type": "stream",
          "text": [
            "\n",
            "\n",
            "    curr_lr - 0.01\n",
            "    [Epoch 3] Train-acc: 0.957, Train-loss: 0.140 | Val-acc: 0.983333, Val-loss: 0.125, | time: 6.7 sec\n",
            "\n",
            "    Epoch 4/50\n",
            "    ----------\n"
          ],
          "name": "stdout"
        },
        {
          "output_type": "stream",
          "text": [
            "\n",
            " 11%|█▏        | 4/35 [00:00<00:01, 15.75it/s]\u001b[A\n",
            " 17%|█▋        | 6/35 [00:00<00:01, 15.45it/s]\u001b[A\n",
            " 23%|██▎       | 8/35 [00:00<00:01, 15.01it/s]\u001b[A\n",
            " 29%|██▊       | 10/35 [00:00<00:01, 14.83it/s]\u001b[A\n",
            " 34%|███▍      | 12/35 [00:00<00:01, 14.44it/s]\u001b[A\n",
            " 40%|████      | 14/35 [00:00<00:01, 14.43it/s]\u001b[A\n",
            " 46%|████▌     | 16/35 [00:01<00:01, 14.24it/s]\u001b[A\n",
            " 51%|█████▏    | 18/35 [00:01<00:01, 14.29it/s]\u001b[A\n",
            " 57%|█████▋    | 20/35 [00:01<00:01, 14.33it/s]\u001b[A\n",
            " 63%|██████▎   | 22/35 [00:01<00:00, 14.32it/s]\u001b[A\n",
            "100%|██████████| 35/35 [00:13<00:00, 15.42it/s]\n",
            " 74%|███████▍  | 26/35 [00:01<00:00, 13.97it/s]\u001b[A\n",
            " 80%|████████  | 28/35 [00:01<00:00, 14.04it/s]\u001b[A\n",
            " 86%|████████▌ | 30/35 [00:02<00:00, 14.11it/s]\u001b[A\n",
            " 91%|█████████▏| 32/35 [00:02<00:00, 14.15it/s]\u001b[A\n",
            " 97%|█████████▋| 34/35 [00:02<00:00, 14.85it/s]\u001b[A\n",
            "\n",
            "  0%|          | 0/15 [00:00<?, ?it/s]\u001b[A\u001b[A\n",
            "\n",
            " 13%|█▎        | 2/15 [00:00<00:00, 17.45it/s]\u001b[A\u001b[A\n",
            "\n",
            " 27%|██▋       | 4/15 [00:00<00:00, 16.32it/s]\u001b[A\u001b[A\n",
            "\n",
            " 40%|████      | 6/15 [00:00<00:00, 15.85it/s]\u001b[A\u001b[A\n",
            "\n",
            " 53%|█████▎    | 8/15 [00:00<00:00, 15.58it/s]\u001b[A\u001b[A\n",
            "\n",
            " 67%|██████▋   | 10/15 [00:00<00:00, 15.32it/s]\u001b[A\u001b[A\n",
            "\n",
            " 80%|████████  | 12/15 [00:00<00:00, 14.87it/s]\u001b[A\u001b[A\n",
            "\n",
            "100%|██████████| 15/15 [00:01<00:00, 14.29it/s]\n",
            "\n",
            "\n",
            "  0%|          | 0/35 [00:00<?, ?it/s]\u001b[A\u001b[A\n",
            "\n",
            "  6%|▌         | 2/35 [00:00<00:02, 14.90it/s]\u001b[A\u001b[A"
          ],
          "name": "stderr"
        },
        {
          "output_type": "stream",
          "text": [
            "\n",
            "\n",
            "    curr_lr - 0.01\n",
            "    [Epoch 4] Train-acc: 0.964, Train-loss: 0.172 | Val-acc: 0.966667, Val-loss: 0.145, | time: 11.8 sec\n",
            "\n",
            "    Epoch 5/50\n",
            "    ----------\n"
          ],
          "name": "stdout"
        },
        {
          "output_type": "stream",
          "text": [
            "\n",
            "\n",
            " 11%|█▏        | 4/35 [00:00<00:02, 14.69it/s]\u001b[A\u001b[A\n",
            "\n",
            " 17%|█▋        | 6/35 [00:00<00:01, 14.58it/s]\u001b[A\u001b[A\n",
            "\n",
            " 23%|██▎       | 8/35 [00:00<00:01, 14.41it/s]\u001b[A\u001b[A\n",
            "\n",
            " 29%|██▊       | 10/35 [00:00<00:01, 14.49it/s]\u001b[A\u001b[A\n",
            "\n",
            " 34%|███▍      | 12/35 [00:00<00:01, 14.20it/s]\u001b[A\u001b[A\n",
            "\n",
            " 40%|████      | 14/35 [00:00<00:01, 14.33it/s]\u001b[A\u001b[A\n",
            "\n",
            " 46%|████▌     | 16/35 [00:01<00:01, 14.22it/s]\u001b[A\u001b[A\n",
            "\n",
            " 51%|█████▏    | 18/35 [00:01<00:01, 14.20it/s]\u001b[A\u001b[A\n",
            "\n",
            " 57%|█████▋    | 20/35 [00:01<00:01, 14.27it/s]\u001b[A\u001b[A\n",
            "\n",
            " 63%|██████▎   | 22/35 [00:01<00:00, 14.26it/s]\u001b[A\u001b[A\n",
            "\n",
            " 69%|██████▊   | 24/35 [00:01<00:00, 14.28it/s]\u001b[A\u001b[A\n",
            "\n",
            " 74%|███████▍  | 26/35 [00:01<00:00, 14.15it/s]\u001b[A\u001b[A\n",
            "\n",
            " 80%|████████  | 28/35 [00:01<00:00, 14.17it/s]\u001b[A\u001b[A\n",
            "\n",
            " 86%|████████▌ | 30/35 [00:02<00:00, 14.04it/s]\u001b[A\u001b[A\n",
            "\n",
            " 91%|█████████▏| 32/35 [00:02<00:00, 14.05it/s]\u001b[A\u001b[A\n",
            "\n",
            " 97%|█████████▋| 34/35 [00:02<00:00, 14.75it/s]\u001b[A\u001b[A\n",
            "\n",
            "\n",
            "  0%|          | 0/15 [00:00<?, ?it/s]\u001b[A\u001b[A\u001b[A\n",
            "\n",
            "\n",
            " 13%|█▎        | 2/15 [00:00<00:00, 19.05it/s]\u001b[A\u001b[A\u001b[A\n",
            "\n",
            "\n",
            " 27%|██▋       | 4/15 [00:00<00:00, 17.33it/s]\u001b[A\u001b[A\u001b[A\n",
            "\n",
            "\n",
            " 40%|████      | 6/15 [00:00<00:00, 16.47it/s]\u001b[A\u001b[A\u001b[A\n",
            "\n",
            "\n",
            " 53%|█████▎    | 8/15 [00:00<00:00, 15.70it/s]\u001b[A\u001b[A\u001b[A\n",
            "\n",
            "\n",
            " 67%|██████▋   | 10/15 [00:00<00:00, 15.05it/s]\u001b[A\u001b[A\u001b[A\n",
            "\n",
            "\n",
            " 80%|████████  | 12/15 [00:00<00:00, 15.11it/s]\u001b[A\u001b[A\u001b[A\n",
            "\n",
            "\n",
            "100%|██████████| 15/15 [00:01<00:00, 14.45it/s]\n",
            "\n",
            "100%|██████████| 35/35 [00:21<00:00, 14.85it/s]\u001b[A\n",
            "\n",
            "\n",
            "  0%|          | 0/35 [00:00<?, ?it/s]\u001b[A\u001b[A\u001b[A\n",
            "\n",
            "\n",
            "  6%|▌         | 2/35 [00:00<00:02, 16.01it/s]\u001b[A\u001b[A\u001b[A"
          ],
          "name": "stderr"
        },
        {
          "output_type": "stream",
          "text": [
            "\n",
            "\n",
            "    curr_lr - 0.01\n",
            "    [Epoch 5] Train-acc: 0.950, Train-loss: 0.139 | Val-acc: 0.883333, Val-loss: 0.251, | time: 14.3 sec\n",
            "\n",
            "    Epoch 6/50\n",
            "    ----------\n"
          ],
          "name": "stdout"
        },
        {
          "output_type": "stream",
          "text": [
            "\n",
            "\n",
            "\n",
            " 11%|█▏        | 4/35 [00:00<00:02, 15.08it/s]\u001b[A\u001b[A\u001b[A\n",
            "\n",
            "\n",
            " 17%|█▋        | 6/35 [00:00<00:01, 14.61it/s]\u001b[A\u001b[A\u001b[A\n",
            "\n",
            "\n",
            " 23%|██▎       | 8/35 [00:00<00:01, 14.00it/s]\u001b[A\u001b[A\u001b[A\n",
            "\n",
            "\n",
            " 29%|██▊       | 10/35 [00:00<00:01, 13.94it/s]\u001b[A\u001b[A\u001b[A\n",
            "\n",
            "\n",
            " 34%|███▍      | 12/35 [00:00<00:01, 13.80it/s]\u001b[A\u001b[A\u001b[A\n",
            "\n",
            "\n",
            " 40%|████      | 14/35 [00:01<00:01, 13.92it/s]\u001b[A\u001b[A\u001b[A\n",
            "\n",
            "\n",
            " 46%|████▌     | 16/35 [00:01<00:01, 13.89it/s]\u001b[A\u001b[A\u001b[A\n",
            "\n",
            "\n",
            " 51%|█████▏    | 18/35 [00:01<00:01, 13.65it/s]\u001b[A\u001b[A\u001b[A\n",
            "\n",
            "\n",
            " 57%|█████▋    | 20/35 [00:01<00:01, 13.57it/s]\u001b[A\u001b[A\u001b[A\n",
            "\n",
            "\n",
            " 63%|██████▎   | 22/35 [00:01<00:00, 13.77it/s]\u001b[A\u001b[A\u001b[A\n",
            "\n",
            "\n",
            " 69%|██████▊   | 24/35 [00:01<00:00, 13.86it/s]\u001b[A\u001b[A\u001b[A\n",
            "\n",
            "\n",
            " 74%|███████▍  | 26/35 [00:01<00:00, 14.02it/s]\u001b[A\u001b[A\u001b[A\n",
            "\n",
            "\n",
            " 80%|████████  | 28/35 [00:02<00:00, 13.57it/s]\u001b[A\u001b[A\u001b[A\n",
            "\n",
            "\n",
            " 86%|████████▌ | 30/35 [00:02<00:00, 13.92it/s]\u001b[A\u001b[A\u001b[A\n",
            "\n",
            "\n",
            " 91%|█████████▏| 32/35 [00:02<00:00, 13.89it/s]\u001b[A\u001b[A\u001b[A\n",
            "\n",
            "\n",
            " 97%|█████████▋| 34/35 [00:02<00:00, 14.71it/s]\u001b[A\u001b[A\u001b[A\n",
            "\n",
            "\n",
            "\n",
            "  0%|          | 0/15 [00:00<?, ?it/s]\u001b[A\u001b[A\u001b[A\u001b[A\n",
            "\n",
            "\n",
            "\n",
            " 13%|█▎        | 2/15 [00:00<00:00, 19.09it/s]\u001b[A\u001b[A\u001b[A\u001b[A\n",
            "\n",
            "\n",
            "\n",
            " 27%|██▋       | 4/15 [00:00<00:00, 18.02it/s]\u001b[A\u001b[A\u001b[A\u001b[A\n",
            "\n",
            "\n",
            "\n",
            " 40%|████      | 6/15 [00:00<00:00, 17.33it/s]\u001b[A\u001b[A\u001b[A\u001b[A\n",
            "\n",
            "\n",
            "\n",
            " 53%|█████▎    | 8/15 [00:00<00:00, 15.94it/s]\u001b[A\u001b[A\u001b[A\u001b[A\n",
            "\n",
            "\n",
            "\n",
            " 67%|██████▋   | 10/15 [00:00<00:00, 15.62it/s]\u001b[A\u001b[A\u001b[A\u001b[A\n",
            "\n",
            "\n",
            "\n",
            " 80%|████████  | 12/15 [00:00<00:00, 15.52it/s]\u001b[A\u001b[A\u001b[A\u001b[A\n",
            "\n",
            "\n",
            "\n",
            "100%|██████████| 15/15 [00:00<00:00, 15.02it/s]\n",
            "\n",
            "\n",
            "100%|██████████| 35/35 [00:19<00:00, 14.75it/s]\u001b[A\u001b[A\n",
            "\n",
            "\n",
            "\n",
            "  0%|          | 0/35 [00:00<?, ?it/s]\u001b[A\u001b[A\u001b[A\u001b[A\n",
            "\n",
            "\n",
            "\n",
            "  6%|▌         | 2/35 [00:00<00:02, 16.04it/s]\u001b[A\u001b[A\u001b[A\u001b[A"
          ],
          "name": "stderr"
        },
        {
          "output_type": "stream",
          "text": [
            "\n",
            "\n",
            "    curr_lr - 0.01\n",
            "    [Epoch 6] Train-acc: 0.950, Train-loss: 0.141 | Val-acc: 0.966667, Val-loss: 0.107, | time: 9.6 sec\n",
            "\n",
            "    Epoch 7/50\n",
            "    ----------\n"
          ],
          "name": "stdout"
        },
        {
          "output_type": "stream",
          "text": [
            "\n",
            "\n",
            "\n",
            "\n",
            " 11%|█▏        | 4/35 [00:00<00:01, 15.52it/s]\u001b[A\u001b[A\u001b[A\u001b[A\n",
            "\n",
            "\n",
            "\n",
            " 17%|█▋        | 6/35 [00:00<00:01, 15.09it/s]\u001b[A\u001b[A\u001b[A\u001b[A\n",
            "\n",
            "\n",
            "\n",
            " 23%|██▎       | 8/35 [00:00<00:01, 14.89it/s]\u001b[A\u001b[A\u001b[A\u001b[A\n",
            "\n",
            "\n",
            "\n",
            " 29%|██▊       | 10/35 [00:00<00:01, 15.08it/s]\u001b[A\u001b[A\u001b[A\u001b[A\n",
            "\n",
            "\n",
            "\n",
            " 34%|███▍      | 12/35 [00:00<00:01, 14.83it/s]\u001b[A\u001b[A\u001b[A\u001b[A\n",
            "\n",
            "\n",
            "\n",
            " 40%|████      | 14/35 [00:00<00:01, 14.56it/s]\u001b[A\u001b[A\u001b[A\u001b[A\n",
            "\n",
            "\n",
            "\n",
            " 46%|████▌     | 16/35 [00:01<00:01, 14.45it/s]\u001b[A\u001b[A\u001b[A\u001b[A\n",
            "\n",
            "\n",
            "\n",
            " 51%|█████▏    | 18/35 [00:01<00:01, 14.50it/s]\u001b[A\u001b[A\u001b[A\u001b[A\n",
            "\n",
            "\n",
            "\n",
            " 57%|█████▋    | 20/35 [00:01<00:01, 14.47it/s]\u001b[A\u001b[A\u001b[A\u001b[A\n",
            "\n",
            "\n",
            "\n",
            " 63%|██████▎   | 22/35 [00:01<00:00, 14.39it/s]\u001b[A\u001b[A\u001b[A\u001b[A\n",
            "\n",
            "\n",
            "\n",
            " 69%|██████▊   | 24/35 [00:01<00:00, 14.28it/s]\u001b[A\u001b[A\u001b[A\u001b[A\n",
            "\n",
            "\n",
            "\n",
            " 74%|███████▍  | 26/35 [00:01<00:00, 14.32it/s]\u001b[A\u001b[A\u001b[A\u001b[A\n",
            "\n",
            "\n",
            "\n",
            " 80%|████████  | 28/35 [00:01<00:00, 14.51it/s]\u001b[A\u001b[A\u001b[A\u001b[A\n",
            "\n",
            "\n",
            "\n",
            " 86%|████████▌ | 30/35 [00:02<00:00, 14.21it/s]\u001b[A\u001b[A\u001b[A\u001b[A\n",
            "\n",
            "\n",
            "\n",
            " 91%|█████████▏| 32/35 [00:02<00:00, 14.32it/s]\u001b[A\u001b[A\u001b[A\u001b[A\n",
            "\n",
            "\n",
            "\n",
            " 97%|█████████▋| 34/35 [00:02<00:00, 14.84it/s]\u001b[A\u001b[A\u001b[A\u001b[A\n",
            "\n",
            "\n",
            "\n",
            "\n",
            "  0%|          | 0/15 [00:00<?, ?it/s]\u001b[A\u001b[A\u001b[A\u001b[A\u001b[A\n",
            "\n",
            "\n",
            "\n",
            "\n",
            " 13%|█▎        | 2/15 [00:00<00:00, 18.90it/s]\u001b[A\u001b[A\u001b[A\u001b[A\u001b[A\n",
            "\n",
            "\n",
            "\n",
            "\n",
            " 27%|██▋       | 4/15 [00:00<00:00, 17.75it/s]\u001b[A\u001b[A\u001b[A\u001b[A\u001b[A\n",
            "\n",
            "\n",
            "\n",
            "\n",
            " 40%|████      | 6/15 [00:00<00:00, 17.04it/s]\u001b[A\u001b[A\u001b[A\u001b[A\u001b[A\n",
            "\n",
            "\n",
            "\n",
            "\n",
            " 53%|█████▎    | 8/15 [00:00<00:00, 16.18it/s]\u001b[A\u001b[A\u001b[A\u001b[A\u001b[A\n",
            "\n",
            "\n",
            "\n",
            "\n",
            " 67%|██████▋   | 10/15 [00:00<00:00, 15.76it/s]\u001b[A\u001b[A\u001b[A\u001b[A\u001b[A\n",
            "\n",
            "\n",
            "\n",
            "\n",
            " 80%|████████  | 12/15 [00:00<00:00, 15.35it/s]\u001b[A\u001b[A\u001b[A\u001b[A\u001b[A\n",
            "\n",
            "\n",
            "\n",
            "\n",
            "100%|██████████| 15/15 [00:01<00:00, 14.85it/s]\n",
            "\n",
            "\n",
            "\n",
            "100%|██████████| 35/35 [00:15<00:00, 14.71it/s]\u001b[A\u001b[A\u001b[A\n",
            "\n",
            "\n",
            "\n",
            "\n"
          ],
          "name": "stderr"
        }
      ]
    },
    {
      "cell_type": "code",
      "metadata": {
        "id": "2L412vCY8lCc",
        "outputId": "95de4771-d7cf-4950-ae70-f336d023d40e",
        "colab": {
          "base_uri": "https://localhost:8080/",
          "height": 1000
        }
      },
      "source": [
        "\n",
        "gtf.Summary()"
      ],
      "execution_count": null,
      "outputs": [
        {
          "output_type": "stream",
          "text": [
            "\n",
            "\n",
            "Experiment Summary\n",
            "\n",
            "System\n",
            "    Project Name:    sample-project-1\n",
            "    Project Dir:     workspace/sample-project-1/\n",
            "    Experiment Name: sample-experiment-1\n",
            "    Experiment Dir:  workspace/sample-project-1/sample-experiment-1/\n",
            "    Library:         Keras\n",
            "    Origin:          ['New', 'New']\n",
            "\n",
            "Dataset\n",
            "    Status:       True\n",
            "    Dataset Type: train\n",
            "    Train path:   datasets/dataset_cats_dogs_train\n",
            "    Val path:     None\n",
            "    Test path:    False\n",
            "    CSV Train:    None\n",
            "    CSV Val:      None\n",
            "    CSV Test:     False\n",
            "\n",
            "Dataset Parameters:\n",
            "    Input Size:   224\n",
            "    Batch Size:   4\n",
            "    Shuffle:      True\n",
            "    Processors:   2\n",
            "    Num Classes:  2\n",
            "\n",
            "Dataset Transforms:\n",
            "    Train transforms: [{'RandomHorizontalFlip': {'p': 0.8}}, {'MeanSubtraction': {'mean': [0.485, 0.456, 0.406]}}]\n",
            "    Val transforms:   [{'RandomHorizontalFlip': {'p': 0.8}}, {'MeanSubtraction': {'mean': [0.485, 0.456, 0.406]}}]\n",
            "    Test transforms:  [{'MeanSubtraction': {'mean': [0.485, 0.456, 0.406]}}]\n",
            "\n",
            "Model\n",
            "    Status:\n",
            "    Model Name:                     resnet50\n",
            "    Use Gpu:                        True\n",
            "    Use pretrained weights:         True\n",
            "    Base network weights freezed:   True\n",
            "    Number of trainable parameters: 2\n",
            "\n",
            "Hyper-Parameters\n",
            "    Status: True\n",
            "    Optimizer:                {'name': 'sgd', 'params': {'lr': 0.0001, 'momentum': 0.9, 'weight_decay': 0, 'momentum_dampening_rate': 0, 'clipnorm': 0.0, 'clipvalue': 0.0}}\n",
            "    Learning Rate Scheduler:  {'name': 'reduceonplateaulr', 'params': {'mode': 'min', 'factor': 0.1, 'patience': 3, 'verbose': True, 'threshold': 0.0001, 'threshold_mode': 'rel', 'cooldown': 0, 'min_lr': 0, 'epsilon': 1e-08}}\n",
            "    loss:                     {'name': 'crossentropy', 'params': {'weight': None, 'batch_axis': 0, 'axis_to_sum_over': -1, 'label_as_categories': True, 'label_smoothing': False}}\n",
            "    Num epochs:               10\n",
            "\n",
            "\n",
            "Dataset Settings\n",
            "    Status: True\n",
            "    Display progress:          True\n",
            "    Display progress realtime: True\n",
            "    Save intermediate models:  True\n",
            "    Save training logs:        True\n",
            "    Intermediate model prefix: intermediate_model_\n",
            "\n",
            "\n",
            "Training\n",
            "    Status: True\n",
            "    Model dir:                      workspace/sample-project-1/sample-experiment-1/output/models/\n",
            "    Best validation accuracy:       0.516667\n",
            "    Best validation accuracy epoch: 0\n",
            "    Training time:                  0m 16s\n",
            "    Epochs completed:               0\n",
            "    Max Gpu Usage:                  0 Mb\n",
            "\n",
            "Training Log Files\n",
            "    Train accuracy: workspace/sample-project-1/sample-experiment-1/output/logs/train_acc_history.npy\n",
            "    Train loss:     workspace/sample-project-1/sample-experiment-1/output/logs/train_loss_history.npy\n",
            "    Val accuracy:   workspace/sample-project-1/sample-experiment-1/output/logs/val_acc_history.npy\n",
            "    Val loss:       workspace/sample-project-1/sample-experiment-1/output/logs/val_loss_history.npy\n",
            "\n",
            "External Evaluation\n",
            "    Status: False\n",
            "\n"
          ],
          "name": "stdout"
        }
      ]
    },
    {
      "cell_type": "code",
      "metadata": {
        "id": "4KgdSJke1n_7",
        "outputId": "b4b92e4e-ee86-4064-db96-9e2323392b73",
        "colab": {
          "base_uri": "https://localhost:8080/",
          "height": 224
        }
      },
      "source": [
        "gtf = prototype(verbose=1)\n",
        "gtf.Prototype(\"sample-project-1\", \"sample-experiment-1\", eval_infer=True)"
      ],
      "execution_count": null,
      "outputs": [
        {
          "output_type": "stream",
          "text": [
            "Keras Version: 2.4.3\n",
            "Tensorflow Version: 2.3.0\n",
            "\n",
            "Model Details\n",
            "    Loading model - workspace/sample-project-1/sample-experiment-1/output/models/final.h5\n",
            "    Model loaded!\n",
            "\n",
            "Experiment Details\n",
            "    Project: sample-project-1\n",
            "    Experiment: sample-experiment-1\n",
            "    Dir: /content/workspace/sample-project-1/sample-experiment-1/\n",
            "\n"
          ],
          "name": "stdout"
        }
      ]
    },
    {
      "cell_type": "code",
      "metadata": {
        "id": "WxYIRxtx2Gtg",
        "outputId": "055cda1b-c3b9-4937-866a-99808a15a045",
        "colab": {
          "base_uri": "https://localhost:8080/",
          "height": 293
        }
      },
      "source": [
        "gtf.Dataset_Params(dataset_path=\"datasets/dataset_cats_dogs_eval\");\n",
        "gtf.Dataset();"
      ],
      "execution_count": null,
      "outputs": [
        {
          "output_type": "stream",
          "text": [
            "Dataset Details\n",
            "    Test path:     datasets/dataset_cats_dogs_eval\n",
            "    CSV test path:  None\n",
            "\n",
            "Dataset Params\n",
            "    Input Size:  224\n",
            "    Processors:   2\n",
            "\n",
            "Found 50 images belonging to 2 classes.\n",
            "Pre-Composed Test Transforms\n",
            "[{'MeanSubtraction': {'mean': [0.485, 0.456, 0.406]}}]\n",
            "\n",
            "Dataset Numbers\n",
            "    Num test images: 50\n",
            "    Num classes:      2\n",
            "\n"
          ],
          "name": "stdout"
        }
      ]
    },
    {
      "cell_type": "code",
      "metadata": {
        "id": "XHIhOQEW2MI9",
        "outputId": "d7b411f1-047e-487e-83cf-95204b70a00f",
        "colab": {
          "base_uri": "https://localhost:8080/",
          "height": 279
        }
      },
      "source": [
        "accuracy, class_based_accuracy = gtf.Evaluate();"
      ],
      "execution_count": null,
      "outputs": [
        {
          "output_type": "stream",
          "text": [
            "Testing\n",
            "WARNING:tensorflow:From /usr/local/lib/python3.6/dist-packages/monk/tf_keras_1/finetune/level_4_evaluation_base.py:64: Model.predict_generator (from tensorflow.python.keras.engine.training) is deprecated and will be removed in a future version.\n",
            "Instructions for updating:\n",
            "Please use Model.predict, which supports generators.\n",
            "50/50 [==============================] - 0s 9ms/step\n",
            "\n",
            "    Result\n",
            "        class based accuracies\n",
            "            0. cat - 0.0 %\n",
            "            1. dog - 100.0 %\n",
            "        total images:            50\n",
            "        num correct predictions: 25\n",
            "        Average accuracy (%):    50.0\n",
            "\n"
          ],
          "name": "stdout"
        }
      ]
    },
    {
      "cell_type": "code",
      "metadata": {
        "id": "f4VBnOVt8mgr",
        "outputId": "d470c491-a2dd-459c-9ecb-e7756cc6a600",
        "colab": {
          "base_uri": "https://localhost:8080/",
          "height": 1000
        }
      },
      "source": [
        "gtf.Summary()"
      ],
      "execution_count": null,
      "outputs": [
        {
          "output_type": "stream",
          "text": [
            "\n",
            "\n",
            "Experiment Summary\n",
            "\n",
            "System\n",
            "    Project Name:    sample-project-1\n",
            "    Project Dir:     workspace/sample-project-1/\n",
            "    Experiment Name: sample-experiment-1\n",
            "    Experiment Dir:  workspace/sample-project-1/sample-experiment-1/\n",
            "    Library:         Keras\n",
            "    Origin:          ['New', 'New']\n",
            "\n",
            "Dataset\n",
            "    Status:       True\n",
            "    Dataset Type: train\n",
            "    Train path:   datasets/dataset_cats_dogs_train\n",
            "    Val path:     None\n",
            "    Test path:    datasets/dataset_cats_dogs_eval\n",
            "    CSV Train:    None\n",
            "    CSV Val:      None\n",
            "    CSV Test:     False\n",
            "\n",
            "Dataset Parameters:\n",
            "    Input Size:   224\n",
            "    Batch Size:   4\n",
            "    Shuffle:      True\n",
            "    Processors:   2\n",
            "    Num Classes:  2\n",
            "\n",
            "Dataset Transforms:\n",
            "    Train transforms: [{'RandomHorizontalFlip': {'p': 0.8}}, {'MeanSubtraction': {'mean': [0.485, 0.456, 0.406]}}]\n",
            "    Val transforms:   [{'RandomHorizontalFlip': {'p': 0.8}}, {'MeanSubtraction': {'mean': [0.485, 0.456, 0.406]}}]\n",
            "    Test transforms:  [{'MeanSubtraction': {'mean': [0.485, 0.456, 0.406]}}]\n",
            "\n",
            "Model\n",
            "    Status:\n",
            "    Model Name:                     resnet50\n",
            "    Use Gpu:                        True\n",
            "    Use pretrained weights:         True\n",
            "    Base network weights freezed:   True\n",
            "    Number of trainable parameters: 2\n",
            "\n",
            "Hyper-Parameters\n",
            "    Status: True\n",
            "    Optimizer:                {'name': 'sgd', 'params': {'lr': 0.0001, 'momentum': 0.9, 'weight_decay': 0, 'momentum_dampening_rate': 0, 'clipnorm': 0.0, 'clipvalue': 0.0}}\n",
            "    Learning Rate Scheduler:  {'name': 'reduceonplateaulr', 'params': {'mode': 'min', 'factor': 0.1, 'patience': 3, 'verbose': True, 'threshold': 0.0001, 'threshold_mode': 'rel', 'cooldown': 0, 'min_lr': 0, 'epsilon': 1e-08}}\n",
            "    loss:                     {'name': 'crossentropy', 'params': {'weight': None, 'batch_axis': 0, 'axis_to_sum_over': -1, 'label_as_categories': True, 'label_smoothing': False}}\n",
            "    Num epochs:               10\n",
            "\n",
            "\n",
            "Dataset Settings\n",
            "    Status: True\n",
            "    Display progress:          True\n",
            "    Display progress realtime: True\n",
            "    Save intermediate models:  True\n",
            "    Save training logs:        True\n",
            "    Intermediate model prefix: intermediate_model_\n",
            "\n",
            "\n",
            "Training\n",
            "    Status: True\n",
            "    Model dir:                      workspace/sample-project-1/sample-experiment-1/output/models/\n",
            "    Best validation accuracy:       0.516667\n",
            "    Best validation accuracy epoch: 0\n",
            "    Training time:                  0m 16s\n",
            "    Epochs completed:               0\n",
            "    Max Gpu Usage:                  0 Mb\n",
            "\n",
            "Training Log Files\n",
            "    Train accuracy: workspace/sample-project-1/sample-experiment-1/output/logs/train_acc_history.npy\n",
            "    Train loss:     workspace/sample-project-1/sample-experiment-1/output/logs/train_loss_history.npy\n",
            "    Val accuracy:   workspace/sample-project-1/sample-experiment-1/output/logs/val_acc_history.npy\n",
            "    Val loss:       workspace/sample-project-1/sample-experiment-1/output/logs/val_loss_history.npy\n",
            "\n",
            "External Evaluation\n",
            "    Status: True\n",
            "    Evaluation Dataset path: datasets/dataset_cats_dogs_eval\n",
            "    Num Images:              50\n",
            "    Num correct predictions: 25\n",
            "    Overall Accuracy:        50.0 %\n",
            "\n"
          ],
          "name": "stdout"
        }
      ]
    },
    {
      "cell_type": "code",
      "metadata": {
        "id": "ZVB0xrHG2QQ_",
        "outputId": "03ebfe58-2bc0-4676-8296-e682fb46bc15",
        "colab": {
          "base_uri": "https://localhost:8080/",
          "height": 224
        }
      },
      "source": [
        "gtf = prototype(verbose=1);\n",
        "gtf.Prototype(\"sample-project-1\", \"sample-experiment-1\", eval_infer=True);"
      ],
      "execution_count": null,
      "outputs": [
        {
          "output_type": "stream",
          "text": [
            "Keras Version: 2.4.3\n",
            "Tensorflow Version: 2.3.0\n",
            "\n",
            "Model Details\n",
            "    Loading model - workspace/sample-project-1/sample-experiment-1/output/models/final.h5\n",
            "    Model loaded!\n",
            "\n",
            "Experiment Details\n",
            "    Project: sample-project-1\n",
            "    Experiment: sample-experiment-1\n",
            "    Dir: /content/workspace/sample-project-1/sample-experiment-1/\n",
            "\n"
          ],
          "name": "stdout"
        }
      ]
    },
    {
      "cell_type": "code",
      "metadata": {
        "id": "YK8oEkIS2Zp5",
        "outputId": "1c2563ac-5cd8-40be-aa3a-6e378fd2df1c",
        "colab": {
          "base_uri": "https://localhost:8080/",
          "height": 602
        }
      },
      "source": [
        "img_name = \"datasets/dataset_cats_dogs_test/0.jpg\";\n",
        "predictions = gtf.Infer(img_name=img_name);\n",
        "\n",
        "#Display \n",
        "from IPython.display import Image\n",
        "Image(filename=img_name)"
      ],
      "execution_count": null,
      "outputs": [
        {
          "output_type": "stream",
          "text": [
            "Prediction\n",
            "    Image name:         datasets/dataset_cats_dogs_test/0.jpg\n",
            "    Predicted class:      dog\n",
            "    Predicted score:      0.7549474239349365\n",
            "\n"
          ],
          "name": "stdout"
        },
        {
          "output_type": "execute_result",
          "data": {
            "image/jpeg": "[encoded data removed]",
            "text/plain": [
              "<IPython.core.display.Image object>"
            ]
          },
          "metadata": {
            "tags": []
          },
          "execution_count": 17
        }
      ]
    },
    {
      "cell_type": "code",
      "metadata": {
        "id": "YKTt4EXL2dvA",
        "outputId": "3b0b604a-96ef-414e-b777-9e62013b3994",
        "colab": {
          "base_uri": "https://localhost:8080/",
          "height": 432
        }
      },
      "source": [
        "img_name = \"datasets/dataset_cats_dogs_test/90.jpg\";\n",
        "predictions = gtf.Infer(img_name=img_name);\n",
        "\n",
        "#Display \n",
        "from IPython.display import Image\n",
        "Image(filename=img_name)"
      ],
      "execution_count": null,
      "outputs": [
        {
          "output_type": "stream",
          "text": [
            "Prediction\n",
            "    Image name:         datasets/dataset_cats_dogs_test/90.jpg\n",
            "    Predicted class:      dog\n",
            "    Predicted score:      0.7939490079879761\n",
            "\n"
          ],
          "name": "stdout"
        },
        {
          "output_type": "execute_result",
          "data": {
            "image/jpeg": "[encoded data removed]",
            "text/plain": [
              "<IPython.core.display.Image object>"
            ]
          },
          "metadata": {
            "tags": []
          },
          "execution_count": 18
        }
      ]
    },
    {
      "cell_type": "code",
      "metadata": {
        "id": "47HoOskJ2hDs"
      },
      "source": [
        ""
      ],
      "execution_count": null,
      "outputs": []
    },
    {
      "cell_type": "code",
      "metadata": {
        "id": "1mH2PvuLL0qu",
        "outputId": "0e5d27d1-2279-44a3-ef07-d58ca32d86fc",
        "colab": {
          "base_uri": "https://localhost:8080/",
          "height": 500
        }
      },
      "source": [
        "gtf.Visualize_With_Netron(data_shape=(3, 224, 224));"
      ],
      "execution_count": null,
      "outputs": [
        {
          "output_type": "stream",
          "text": [
            "Using Netron To Visualize\n",
            "Not compatible on kaggle\n",
            "Compatible only for Jupyter Notebooks\n"
          ],
          "name": "stdout"
        },
        {
          "output_type": "error",
          "ename": "ModuleNotFoundError",
          "evalue": "ignored",
          "traceback": [
            "\u001b[0;31m---------------------------------------------------------------------------\u001b[0m",
            "\u001b[0;31mModuleNotFoundError\u001b[0m                       Traceback (most recent call last)",
            "\u001b[0;32m<ipython-input-19-e0aacf442f0d>\u001b[0m in \u001b[0;36m<module>\u001b[0;34m()\u001b[0m\n\u001b[0;32m----> 1\u001b[0;31m \u001b[0mgtf\u001b[0m\u001b[0;34m.\u001b[0m\u001b[0mVisualize_With_Netron\u001b[0m\u001b[0;34m(\u001b[0m\u001b[0mdata_shape\u001b[0m\u001b[0;34m=\u001b[0m\u001b[0;34m(\u001b[0m\u001b[0;36m3\u001b[0m\u001b[0;34m,\u001b[0m \u001b[0;36m224\u001b[0m\u001b[0;34m,\u001b[0m \u001b[0;36m224\u001b[0m\u001b[0;34m)\u001b[0m\u001b[0;34m)\u001b[0m\u001b[0;34m;\u001b[0m\u001b[0;34m\u001b[0m\u001b[0;34m\u001b[0m\u001b[0m\n\u001b[0m",
            "\u001b[0;32m/usr/local/lib/python3.6/dist-packages/monk/system/imports.py\u001b[0m in \u001b[0;36mdecorator_wrapper\u001b[0;34m(*function_args, **function_args_dicts)\u001b[0m\n\u001b[1;32m    140\u001b[0m                                                       False)\n\u001b[1;32m    141\u001b[0m \u001b[0;34m\u001b[0m\u001b[0m\n\u001b[0;32m--> 142\u001b[0;31m             \u001b[0;32mreturn\u001b[0m \u001b[0mvalidate_function\u001b[0m\u001b[0;34m(\u001b[0m\u001b[0;34m*\u001b[0m\u001b[0mfunction_args\u001b[0m\u001b[0;34m,\u001b[0m \u001b[0;34m**\u001b[0m\u001b[0mfunction_args_dicts\u001b[0m\u001b[0;34m)\u001b[0m\u001b[0;34m\u001b[0m\u001b[0;34m\u001b[0m\u001b[0m\n\u001b[0m\u001b[1;32m    143\u001b[0m         \u001b[0;32mreturn\u001b[0m \u001b[0mdecorator_wrapper\u001b[0m\u001b[0;34m\u001b[0m\u001b[0;34m\u001b[0m\u001b[0m\n\u001b[1;32m    144\u001b[0m     \u001b[0;32mreturn\u001b[0m \u001b[0maccept_decorator\u001b[0m\u001b[0;34m\u001b[0m\u001b[0;34m\u001b[0m\u001b[0m\n",
            "\u001b[0;32m/usr/local/lib/python3.6/dist-packages/monk/tf_keras_1/finetune/level_14_master_main.py\u001b[0m in \u001b[0;36mVisualize_With_Netron\u001b[0;34m(self, data_shape, port)\u001b[0m\n\u001b[1;32m    319\u001b[0m \u001b[0;34m\u001b[0m\u001b[0m\n\u001b[1;32m    320\u001b[0m \u001b[0;34m\u001b[0m\u001b[0m\n\u001b[0;32m--> 321\u001b[0;31m         \u001b[0;32mimport\u001b[0m \u001b[0mnetron\u001b[0m\u001b[0;34m\u001b[0m\u001b[0;34m\u001b[0m\u001b[0m\n\u001b[0m\u001b[1;32m    322\u001b[0m         \u001b[0;32mif\u001b[0m\u001b[0;34m(\u001b[0m\u001b[0;32mnot\u001b[0m \u001b[0mport\u001b[0m\u001b[0;34m)\u001b[0m\u001b[0;34m:\u001b[0m\u001b[0;34m\u001b[0m\u001b[0;34m\u001b[0m\u001b[0m\n\u001b[1;32m    323\u001b[0m             \u001b[0mnetron\u001b[0m\u001b[0;34m.\u001b[0m\u001b[0mstart\u001b[0m\u001b[0;34m(\u001b[0m\u001b[0;34m'final.h5'\u001b[0m\u001b[0;34m)\u001b[0m\u001b[0;34m\u001b[0m\u001b[0;34m\u001b[0m\u001b[0m\n",
            "\u001b[0;31mModuleNotFoundError\u001b[0m: No module named 'netron'",
            "",
            "\u001b[0;31m---------------------------------------------------------------------------\u001b[0;32m\nNOTE: If your import is failing due to a missing package, you can\nmanually install dependencies using either !pip or !apt.\n\nTo view examples of installing some common dependencies, click the\n\"Open Examples\" button below.\n\u001b[0;31m---------------------------------------------------------------------------\u001b[0m\n"
          ]
        }
      ]
    },
    {
      "cell_type": "code",
      "metadata": {
        "id": "0G6wWWngL2Mp"
      },
      "source": [
        "from IPython.display import Image\n",
        "Image(filename='imgs/model.png')"
      ],
      "execution_count": null,
      "outputs": []
    },
    {
      "cell_type": "code",
      "metadata": {
        "id": "AFNoHGjlL6_f"
      },
      "source": [
        ""
      ],
      "execution_count": null,
      "outputs": []
    }
  ]
}