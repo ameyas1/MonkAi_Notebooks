{
  "nbformat": 4,
  "nbformat_minor": 0,
  "metadata": {
    "colab": {
      "name": "blackpink-MONKAI",
      "provenance": [],
      "collapsed_sections": []
    },
    "kernelspec": {
      "name": "python3",
      "display_name": "Python 3"
    },
    "accelerator": "GPU"
  },
  "cells": [
    {
      "cell_type": "code",
      "metadata": {
        "id": "Lb8qnQknFseR",
        "outputId": "72857cfb-851d-4827-a421-9be3b30b2a34",
        "colab": {
          "base_uri": "https://localhost:8080/",
          "height": 780
        }
      },
      "source": [
        "!pip install -U monk-colab"
      ],
      "execution_count": 1,
      "outputs": [
        {
          "output_type": "stream",
          "text": [
            "Collecting monk-colab\n",
            "\u001b[?25l  Downloading https://files.pythonhosted.org/packages/f0/0e/04b6ca6b11ef8742c9c041cf043ae1708d003b61d9a1646efb269e8fb489/monk_colab-0.0.1-py3-none-any.whl (515kB)\n",
            "\u001b[K     |████████████████████████████████| 522kB 2.8MB/s \n",
            "\u001b[?25hCollecting GPUtil\n",
            "  Downloading https://files.pythonhosted.org/packages/ed/0e/5c61eedde9f6c87713e89d794f01e378cfd9565847d4576fa627d758c554/GPUtil-1.4.0.tar.gz\n",
            "Collecting pylg\n",
            "  Downloading https://files.pythonhosted.org/packages/6c/15/20e454f122d87e4088803be527de8566468608c55645b573f702e11cb63c/PyLg-1.3.3-py3-none-any.whl\n",
            "Collecting gluoncv\n",
            "\u001b[?25l  Downloading https://files.pythonhosted.org/packages/b8/d7/74b530c461ac3eb90f6045a645a59450de1f3d616a4926e371daa021dbd8/gluoncv-0.8.0-py2.py3-none-any.whl (810kB)\n",
            "\u001b[K     |████████████████████████████████| 819kB 12.3MB/s \n",
            "\u001b[?25hCollecting mxnet-cu101\n",
            "\u001b[?25l  Downloading https://files.pythonhosted.org/packages/40/26/9655677b901537f367c3c473376e4106abc72e01a8fc25b1cb6ed9c37e8c/mxnet_cu101-1.7.0-py2.py3-none-manylinux2014_x86_64.whl (846.0MB)\n",
            "\u001b[K     |███████████████████████████████▌| 834.1MB 1.3MB/s eta 0:00:10tcmalloc: large alloc 1147494400 bytes == 0x39e30000 @  0x7f1f2c14f615 0x591f47 0x4cc229 0x4cc38b 0x50a51c 0x50c1f4 0x507f24 0x509c50 0x50a64d 0x50c1f4 0x507f24 0x509c50 0x50a64d 0x50cfd6 0x58e793 0x50c467 0x58e793 0x50c467 0x58e793 0x50c467 0x58e793 0x50c467 0x509918 0x50a64d 0x50c1f4 0x507f24 0x509c50 0x50a64d 0x50c1f4 0x509918 0x50a64d\n",
            "\u001b[K     |████████████████████████████████| 846.0MB 22kB/s \n",
            "\u001b[?25hRequirement already satisfied, skipping upgrade: scipy in /usr/local/lib/python3.6/dist-packages (from gluoncv->monk-colab) (1.4.1)\n",
            "Requirement already satisfied, skipping upgrade: requests in /usr/local/lib/python3.6/dist-packages (from gluoncv->monk-colab) (2.23.0)\n",
            "Requirement already satisfied, skipping upgrade: tqdm in /usr/local/lib/python3.6/dist-packages (from gluoncv->monk-colab) (4.41.1)\n",
            "Requirement already satisfied, skipping upgrade: numpy in /usr/local/lib/python3.6/dist-packages (from gluoncv->monk-colab) (1.18.5)\n",
            "Collecting portalocker\n",
            "  Downloading https://files.pythonhosted.org/packages/89/a6/3814b7107e0788040870e8825eebf214d72166adf656ba7d4bf14759a06a/portalocker-2.0.0-py2.py3-none-any.whl\n",
            "Requirement already satisfied, skipping upgrade: Pillow in /usr/local/lib/python3.6/dist-packages (from gluoncv->monk-colab) (7.0.0)\n",
            "Requirement already satisfied, skipping upgrade: matplotlib in /usr/local/lib/python3.6/dist-packages (from gluoncv->monk-colab) (3.2.2)\n",
            "Collecting graphviz<0.9.0,>=0.8.1\n",
            "  Downloading https://files.pythonhosted.org/packages/53/39/4ab213673844e0c004bed8a0781a0721a3f6bb23eb8854ee75c236428892/graphviz-0.8.4-py2.py3-none-any.whl\n",
            "Requirement already satisfied, skipping upgrade: idna<3,>=2.5 in /usr/local/lib/python3.6/dist-packages (from requests->gluoncv->monk-colab) (2.10)\n",
            "Requirement already satisfied, skipping upgrade: urllib3!=1.25.0,!=1.25.1,<1.26,>=1.21.1 in /usr/local/lib/python3.6/dist-packages (from requests->gluoncv->monk-colab) (1.24.3)\n",
            "Requirement already satisfied, skipping upgrade: certifi>=2017.4.17 in /usr/local/lib/python3.6/dist-packages (from requests->gluoncv->monk-colab) (2020.6.20)\n",
            "Requirement already satisfied, skipping upgrade: chardet<4,>=3.0.2 in /usr/local/lib/python3.6/dist-packages (from requests->gluoncv->monk-colab) (3.0.4)\n",
            "Requirement already satisfied, skipping upgrade: kiwisolver>=1.0.1 in /usr/local/lib/python3.6/dist-packages (from matplotlib->gluoncv->monk-colab) (1.2.0)\n",
            "Requirement already satisfied, skipping upgrade: python-dateutil>=2.1 in /usr/local/lib/python3.6/dist-packages (from matplotlib->gluoncv->monk-colab) (2.8.1)\n",
            "Requirement already satisfied, skipping upgrade: pyparsing!=2.0.4,!=2.1.2,!=2.1.6,>=2.0.1 in /usr/local/lib/python3.6/dist-packages (from matplotlib->gluoncv->monk-colab) (2.4.7)\n",
            "Requirement already satisfied, skipping upgrade: cycler>=0.10 in /usr/local/lib/python3.6/dist-packages (from matplotlib->gluoncv->monk-colab) (0.10.0)\n",
            "Requirement already satisfied, skipping upgrade: six>=1.5 in /usr/local/lib/python3.6/dist-packages (from python-dateutil>=2.1->matplotlib->gluoncv->monk-colab) (1.15.0)\n",
            "Building wheels for collected packages: GPUtil\n",
            "  Building wheel for GPUtil (setup.py) ... \u001b[?25l\u001b[?25hdone\n",
            "  Created wheel for GPUtil: filename=GPUtil-1.4.0-cp36-none-any.whl size=7411 sha256=7bf37f144c73c02e5c95456966deef99235aeba1899c3a653d18ac114b25f3ac\n",
            "  Stored in directory: /root/.cache/pip/wheels/3d/77/07/80562de4bb0786e5ea186911a2c831fdd0018bda69beab71fd\n",
            "Successfully built GPUtil\n",
            "Installing collected packages: GPUtil, pylg, portalocker, gluoncv, graphviz, mxnet-cu101, monk-colab\n",
            "  Found existing installation: graphviz 0.10.1\n",
            "    Uninstalling graphviz-0.10.1:\n",
            "      Successfully uninstalled graphviz-0.10.1\n",
            "Successfully installed GPUtil-1.4.0 gluoncv-0.8.0 graphviz-0.8.4 monk-colab-0.0.1 mxnet-cu101-1.7.0 portalocker-2.0.0 pylg-1.3.3\n"
          ],
          "name": "stdout"
        }
      ]
    },
    {
      "cell_type": "code",
      "metadata": {
        "id": "M7uG0dprGAkb"
      },
      "source": [
        "import zipfile\n",
        "zip_ref = zipfile.ZipFile('/content/drive/My Drive/blackpink_revised.zip', 'r')\n",
        "zip_ref.extractall('test')\n",
        "zip_ref.close()"
      ],
      "execution_count": 2,
      "outputs": []
    },
    {
      "cell_type": "code",
      "metadata": {
        "id": "oXKMzrwrGQ4Z"
      },
      "source": [
        "import zipfile\n",
        "zip_ref = zipfile.ZipFile('/content/drive/My Drive/blackpink_revised_all_in_one.zip', 'r')\n",
        "zip_ref.extractall('')\n",
        "zip_ref.close()"
      ],
      "execution_count": 3,
      "outputs": []
    },
    {
      "cell_type": "code",
      "metadata": {
        "id": "-QEEH0OrGS4_"
      },
      "source": [
        "from monk.gluon_prototype import prototype"
      ],
      "execution_count": 4,
      "outputs": []
    },
    {
      "cell_type": "code",
      "metadata": {
        "id": "bjvI-RejGWzZ",
        "outputId": "978ec03c-f80b-4a30-83eb-c26105957495",
        "colab": {
          "base_uri": "https://localhost:8080/",
          "height": 138
        }
      },
      "source": [
        "gtf = prototype(verbose=1)\n",
        "gtf.Prototype(\"blackpink-fd\", \"sample-1\")"
      ],
      "execution_count": null,
      "outputs": [
        {
          "output_type": "stream",
          "text": [
            "Mxnet Version: 1.7.0\n",
            "\n",
            "Experiment Details\n",
            "    Project: blackpink-fd\n",
            "    Experiment: sample-1\n",
            "    Dir: /content/workspace/blackpink-fd/sample-1/\n",
            "\n"
          ],
          "name": "stdout"
        }
      ]
    },
    {
      "cell_type": "code",
      "metadata": {
        "id": "ePvy5DGqGf96",
        "outputId": "0f766da3-53df-4d00-be03-304132bb289d",
        "colab": {
          "base_uri": "https://localhost:8080/",
          "height": 1000
        }
      },
      "source": [
        "gtf.Default(dataset_path=\"/content/train_vgg\", \n",
        "            model_name=\"resnet152_v1d\", \n",
        "            num_epochs=10);"
      ],
      "execution_count": null,
      "outputs": [
        {
          "output_type": "stream",
          "text": [
            "Dataset Details\n",
            "    Train path:     /content/train_vgg\n",
            "    Val path:       None\n",
            "    CSV train path: None\n",
            "    CSV val path:   None\n",
            "    Label Type:     single\n",
            "\n",
            "Dataset Params\n",
            "    Input Size:   224\n",
            "    Batch Size:   4\n",
            "    Data Shuffle: True\n",
            "    Processors:   2\n",
            "    Train-val split:   0.7\n",
            "\n",
            "Pre-Composed Train Transforms\n",
            "[{'RandomHorizontalFlip': {'p': 0.8}}, {'Normalize': {'mean': [0.485, 0.456, 0.406], 'std': [0.229, 0.224, 0.225]}}]\n",
            "\n",
            "Pre-Composed Val Transforms\n",
            "[{'RandomHorizontalFlip': {'p': 0.8}}, {'Normalize': {'mean': [0.485, 0.456, 0.406], 'std': [0.229, 0.224, 0.225]}}]\n",
            "\n",
            "Dataset Numbers\n",
            "    Num train images: 4665\n",
            "    Num val images:   2000\n",
            "    Num classes:      4\n",
            "\n",
            "Model Params\n",
            "    Model name:           resnet152_v1d\n",
            "    Use Gpu:              True\n",
            "    Use pretrained:       True\n",
            "    Freeze base network:  True\n",
            "\n",
            "Model Details\n",
            "    Loading pretrained model\n",
            "Downloading /root/.mxnet/models/resnet152_v1d-cddbc86f.zip from https://apache-mxnet.s3-accelerate.dualstack.amazonaws.com/gluon/models/resnet152_v1d-cddbc86f.zip...\n"
          ],
          "name": "stdout"
        },
        {
          "output_type": "stream",
          "text": [
            "100%|██████████| 218822/218822 [00:08<00:00, 25442.22KB/s]\n"
          ],
          "name": "stderr"
        },
        {
          "output_type": "stream",
          "text": [
            "    Model Loaded on device\n",
            "        Model name:                           resnet152_v1d\n",
            "        Num of potentially trainable layers:  315\n",
            "        Num of actual trainable layers:       1\n",
            "\n",
            "Optimizer\n",
            "    Name:          sgd\n",
            "    Learning rate: 0.01\n",
            "    Params:        {'lr': 0.01, 'momentum': 0, 'weight_decay': 0, 'momentum_dampening_rate': 0, 'clipnorm': 0.0, 'clipvalue': 0.0}\n",
            "\n",
            "\n",
            "\n",
            "Learning rate scheduler\n",
            "    Name:   steplr\n",
            "    Params: {'step_size': 1, 'gamma': 0.98, 'last_epoch': -1}\n",
            "\n",
            "Loss\n",
            "    Name:          softmaxcrossentropy\n",
            "    Params:        {'weight': None, 'batch_axis': 0, 'axis_to_sum_over': -1, 'label_as_categories': True, 'label_smoothing': False}\n",
            "\n",
            "Training params\n",
            "    Num Epochs: 10\n",
            "\n",
            "Display params\n",
            "    Display progress:          True\n",
            "    Display progress realtime: True\n",
            "    Save Training logs:        True\n",
            "    Save Intermediate models:  True\n",
            "    Intermediate model prefix: intermediate_model_\n",
            "\n"
          ],
          "name": "stdout"
        },
        {
          "output_type": "stream",
          "text": [
            "/usr/local/lib/python3.6/dist-packages/monk/system/imports.py:160: UserWarning: ArgumentWarning: clipnorm and clipvalue are active only for keras in current version of Monk\n",
            "  warnings.warn(msg)\n",
            "/usr/local/lib/python3.6/dist-packages/monk/system/imports.py:160: UserWarning: ArgumentWarning: momentum_dampening_rate is active only for pytorch in current version of Monk\n",
            "  warnings.warn(msg)\n"
          ],
          "name": "stderr"
        }
      ]
    },
    {
      "cell_type": "code",
      "metadata": {
        "id": "m44nql5uGk9-"
      },
      "source": [
        "analysis_name = \"analyse_models\"\n",
        "# Models to analyse\n",
        "# First element in the list- Model Name\n",
        "# Second element in the list - Boolean value to freeze base network or not\n",
        "# Third element in the list - Boolean value to use pretrained model as the starting point or not\n",
        "models = [[\"senet_154\", True, True], [\"resnet152_v1d\", True, True], [\"se_resnext101_64x4d\", True, True],[\"densenet201\", True, True],[\"resnet101_v1d_0.73\", True, True]]\n"
      ],
      "execution_count": null,
      "outputs": []
    },
    {
      "cell_type": "code",
      "metadata": {
        "id": "-pIvRPQ1GlDM"
      },
      "source": [
        "epochs=5 #no of epochs\n",
        "\n",
        "percent_data=40 #percentage of data used for the analysis"
      ],
      "execution_count": null,
      "outputs": []
    },
    {
      "cell_type": "code",
      "metadata": {
        "id": "bXCMHtf7GlH9",
        "outputId": "710dd164-4162-4f78-8435-d3da777212e4",
        "colab": {
          "base_uri": "https://localhost:8080/",
          "height": 1000
        }
      },
      "source": [
        "analysis = gtf.Analyse_Models(analysis_name, models, percent_data, \n",
        "                              num_epochs=epochs, state=\"keep_none\"); #Analyser function called"
      ],
      "execution_count": null,
      "outputs": [
        {
          "output_type": "stream",
          "text": [
            "\n",
            "Running Model analysis\n",
            "Analysis Name      : analyse_models\n",
            "\n",
            "Running experiment : 1/5\n",
            "Experiment name    : Model_senet_154_freeze_base_pretrained\n",
            "Downloading /root/.mxnet/models/senet_154-b5538ef1.zip from https://apache-mxnet.s3-accelerate.dualstack.amazonaws.com/gluon/models/senet_154-b5538ef1.zip...\n"
          ],
          "name": "stdout"
        },
        {
          "output_type": "stream",
          "text": [
            "100%|██████████| 419938/419938 [00:15<00:00, 27426.93KB/s]\n"
          ],
          "name": "stderr"
        },
        {
          "output_type": "stream",
          "text": [
            "Estimated time     : 10 min\n",
            "Experiment Complete\n",
            "\n",
            "\n",
            "Running experiment : 2/5\n",
            "Experiment name    : Model_resnet152_v1d_freeze_base_pretrained\n",
            "Estimated time     : 4 min\n",
            "Experiment Complete\n",
            "\n",
            "\n",
            "Running experiment : 3/5\n",
            "Experiment name    : Model_se_resnext101_64x4d_freeze_base_pretrained\n",
            "Downloading /root/.mxnet/models/se_resnext101_64x4d-11c50114.zip from https://apache-mxnet.s3-accelerate.dualstack.amazonaws.com/gluon/models/se_resnext101_64x4d-11c50114.zip...\n"
          ],
          "name": "stdout"
        },
        {
          "output_type": "stream",
          "text": [
            "100%|██████████| 319607/319607 [00:11<00:00, 26979.42KB/s]\n"
          ],
          "name": "stderr"
        },
        {
          "output_type": "stream",
          "text": [
            "Estimated time     : 7 min\n",
            "Experiment Complete\n",
            "\n",
            "\n",
            "Running experiment : 4/5\n",
            "Experiment name    : Model_densenet201_freeze_base_pretrained\n",
            "Downloading /root/.mxnet/models/densenet201-1cdbc116.zip from https://apache-mxnet.s3-accelerate.dualstack.amazonaws.com/gluon/models/densenet201-1cdbc116.zip...\n"
          ],
          "name": "stdout"
        },
        {
          "output_type": "stream",
          "text": [
            "74804KB [00:03, 20987.65KB/s]                           \n"
          ],
          "name": "stderr"
        },
        {
          "output_type": "stream",
          "text": [
            "Estimated time     : 5 min\n",
            "Experiment Complete\n",
            "\n",
            "\n",
            "Running experiment : 5/5\n",
            "Experiment name    : Model_resnet101_v1d_0.73_freeze_base_pretrained\n",
            "Downloading /root/.mxnet/models/resnet101_v1d_2.2x-712fccb1.zip from https://apache-mxnet.s3-accelerate.dualstack.amazonaws.com/gluon/models/resnet101_v1d_2.2x-712fccb1.zip...\n"
          ],
          "name": "stdout"
        },
        {
          "output_type": "stream",
          "text": [
            "100%|██████████| 73352/73352 [00:03<00:00, 21465.52KB/s]\n"
          ],
          "name": "stderr"
        },
        {
          "output_type": "stream",
          "text": [
            "Estimated time     : 3 min\n",
            "Experiment Complete\n",
            "\n",
            "\n",
            "Comparing Experiments\n",
            "Comparison ID:      Comparison_analyse_models\n",
            "Generated statistics post all epochs\n",
            "| Experiment Name                                  |   Train Acc |   Val Acc |   Train Loss |   Val Loss |\n",
            "|--------------------------------------------------+-------------+-----------+--------------+------------|\n",
            "| Model_senet_154_freeze_base_pretrained           |    0.592824 |  0.58427  |     0.98801  |   1.05463  |\n",
            "| Model_resnet152_v1d_freeze_base_pretrained       |    0.667501 |  0.689139 |     0.851267 |   0.802897 |\n",
            "| Model_se_resnext101_64x4d_freeze_base_pretrained |    0.607426 |  0.520599 |     0.947894 |   1.08046  |\n",
            "| Model_densenet201_freeze_base_pretrained         |    0.57572  |  0.576779 |     1.07761  |   1.16148  |\n",
            "| Model_resnet101_v1d_0.73_freeze_base_pretrained  |    0.63496  |  0.565543 |     0.899785 |   1.0397   |\n",
            "\n"
          ],
          "name": "stdout"
        },
        {
          "output_type": "display_data",
          "data": {
            "text/plain": [
              "<Figure size 432x288 with 0 Axes>"
            ]
          },
          "metadata": {
            "tags": []
          }
        },
        {
          "output_type": "display_data",
          "data": {
            "text/plain": [
              "<Figure size 1440x720 with 0 Axes>"
            ]
          },
          "metadata": {
            "tags": []
          }
        },
        {
          "output_type": "display_data",
          "data": {
            "text/plain": [
              "<Figure size 1440x720 with 0 Axes>"
            ]
          },
          "metadata": {
            "tags": []
          }
        },
        {
          "output_type": "display_data",
          "data": {
            "text/plain": [
              "<Figure size 1440x720 with 0 Axes>"
            ]
          },
          "metadata": {
            "tags": []
          }
        },
        {
          "output_type": "display_data",
          "data": {
            "text/plain": [
              "<Figure size 1440x720 with 0 Axes>"
            ]
          },
          "metadata": {
            "tags": []
          }
        }
      ]
    },
    {
      "cell_type": "code",
      "metadata": {
        "id": "NCgYcZKHG3ZN",
        "outputId": "a29c601f-71a4-482b-dc7c-3d547a00660f",
        "colab": {
          "base_uri": "https://localhost:8080/",
          "height": 140
        }
      },
      "source": [
        "gtf = prototype(verbose=0)\n",
        "gtf.Prototype(\"blackpink-fd\", \"best_model-resnet\")\n",
        "gtf.Default(dataset_path=\"/content/train_vgg\", \n",
        "            model_name=\"resnet152_v1d\", \n",
        "            num_epochs=5,\n",
        "            freeze_base_network=False)"
      ],
      "execution_count": 5,
      "outputs": [
        {
          "output_type": "stream",
          "text": [
            "Downloading /root/.mxnet/models/resnet152_v1d-cddbc86f.zip from https://apache-mxnet.s3-accelerate.dualstack.amazonaws.com/gluon/models/resnet152_v1d-cddbc86f.zip...\n"
          ],
          "name": "stdout"
        },
        {
          "output_type": "stream",
          "text": [
            "100%|██████████| 218822/218822 [00:07<00:00, 30202.08KB/s]\n",
            "/usr/local/lib/python3.6/dist-packages/monk/system/imports.py:160: UserWarning: ArgumentWarning: clipnorm and clipvalue are active only for keras in current version of Monk\n",
            "  warnings.warn(msg)\n",
            "/usr/local/lib/python3.6/dist-packages/monk/system/imports.py:160: UserWarning: ArgumentWarning: momentum_dampening_rate is active only for pytorch in current version of Monk\n",
            "  warnings.warn(msg)\n"
          ],
          "name": "stderr"
        }
      ]
    },
    {
      "cell_type": "code",
      "metadata": {
        "id": "BbWhJ0z0G3X-",
        "outputId": "ca1455cb-9bc8-4bf9-bd20-02bc2c9dd89e",
        "colab": {
          "base_uri": "https://localhost:8080/",
          "height": 1000
        }
      },
      "source": [
        "gtf.Summary()"
      ],
      "execution_count": 6,
      "outputs": [
        {
          "output_type": "stream",
          "text": [
            "\n",
            "\n",
            "Experiment Summary\n",
            "\n",
            "System\n",
            "    Project Name:    blackpink-fd\n",
            "    Project Dir:     workspace/blackpink-fd/\n",
            "    Experiment Name: best_model-resnet\n",
            "    Experiment Dir:  workspace/blackpink-fd/best_model-resnet/\n",
            "    Library:         Mxnet\n",
            "    Origin:          ['New', 'New']\n",
            "\n",
            "Dataset\n",
            "    Status:       True\n",
            "    Dataset Type: train\n",
            "    Train path:   /content/train_vgg\n",
            "    Val path:     None\n",
            "    Test path:    False\n",
            "    CSV Train:    None\n",
            "    CSV Val:      None\n",
            "    CSV Test:     False\n",
            "\n",
            "Dataset Parameters:\n",
            "    Input Size:   224\n",
            "    Batch Size:   4\n",
            "    Shuffle:      True\n",
            "    Processors:   2\n",
            "    Num Classes:  4\n",
            "\n",
            "Dataset Transforms:\n",
            "    Train transforms: [{'RandomHorizontalFlip': {'p': 0.8}}, {'Normalize': {'mean': [0.485, 0.456, 0.406], 'std': [0.229, 0.224, 0.225]}}]\n",
            "    Val transforms:   [{'RandomHorizontalFlip': {'p': 0.8}}, {'Normalize': {'mean': [0.485, 0.456, 0.406], 'std': [0.229, 0.224, 0.225]}}]\n",
            "    Test transforms:  [{'Normalize': {'mean': [0.485, 0.456, 0.406], 'std': [0.229, 0.224, 0.225]}}]\n",
            "\n",
            "Model\n",
            "    Status:\n",
            "    Model Name:                     resnet152_v1d\n",
            "    Use Gpu:                        True\n",
            "    Use pretrained weights:         True\n",
            "    Base network weights freezed:   False\n",
            "    Number of trainable parameters: 315\n",
            "\n",
            "Hyper-Parameters\n",
            "    Status: True\n",
            "    Optimizer:                {'name': 'sgd', 'params': {'lr': 0.01, 'momentum': 0, 'weight_decay': 0, 'momentum_dampening_rate': 0, 'clipnorm': 0.0, 'clipvalue': 0.0}}\n",
            "    Learning Rate Scheduler:  {'name': 'steplr', 'params': {'step_size': 1, 'gamma': 0.98, 'last_epoch': -1}}\n",
            "    loss:                     {'name': 'softmaxcrossentropy', 'params': {'weight': None, 'batch_axis': 0, 'axis_to_sum_over': -1, 'label_as_categories': True, 'label_smoothing': False}}\n",
            "    Num epochs:               5\n",
            "\n",
            "\n",
            "Dataset Settings\n",
            "    Status: True\n",
            "    Display progress:          True\n",
            "    Display progress realtime: True\n",
            "    Save intermediate models:  True\n",
            "    Save training logs:        True\n",
            "    Intermediate model prefix: intermediate_model_\n",
            "\n",
            "\n",
            "Training\n",
            "    Status: False\n",
            "\n",
            "External Evaluation\n",
            "    Status: False\n",
            "\n"
          ],
          "name": "stdout"
        }
      ]
    },
    {
      "cell_type": "code",
      "metadata": {
        "id": "An5twofEG3Rr",
        "outputId": "735be702-abd7-4882-d49a-1fa3140da0ad",
        "colab": {
          "base_uri": "https://localhost:8080/",
          "height": 34
        }
      },
      "source": [
        "gtf.Train()"
      ],
      "execution_count": 7,
      "outputs": [
        {
          "output_type": "display_data",
          "data": {
            "text/plain": [
              "<Figure size 432x288 with 0 Axes>"
            ]
          },
          "metadata": {
            "tags": []
          }
        }
      ]
    },
    {
      "cell_type": "code",
      "metadata": {
        "id": "4PDAfyYlGlBx",
        "outputId": "4f8da0e3-8c0a-409e-85f2-8f7e408b29b5",
        "colab": {
          "base_uri": "https://localhost:8080/"
        }
      },
      "source": [
        "gtf.Summary()"
      ],
      "execution_count": null,
      "outputs": [
        {
          "output_type": "stream",
          "text": [
            "\n",
            "\n",
            "Experiment Summary\n",
            "\n",
            "System\n",
            "    Project Name:    blackpink-fd\n",
            "    Project Dir:     workspace/blackpink-fd/\n",
            "    Experiment Name: best_model-resnet\n",
            "    Experiment Dir:  workspace/blackpink-fd/best_model-resnet/\n",
            "    Library:         Mxnet\n",
            "    Origin:          ['New', 'New']\n",
            "\n",
            "Dataset\n",
            "    Status:       True\n",
            "    Dataset Type: train\n",
            "    Train path:   /content/train_vgg\n",
            "    Val path:     None\n",
            "    Test path:    False\n",
            "    CSV Train:    None\n",
            "    CSV Val:      None\n",
            "    CSV Test:     False\n",
            "\n",
            "Dataset Parameters:\n",
            "    Input Size:   224\n",
            "    Batch Size:   4\n",
            "    Shuffle:      True\n",
            "    Processors:   2\n",
            "    Num Classes:  4\n",
            "\n",
            "Dataset Transforms:\n",
            "    Train transforms: [{'RandomHorizontalFlip': {'p': 0.8}}, {'Normalize': {'mean': [0.485, 0.456, 0.406], 'std': [0.229, 0.224, 0.225]}}]\n",
            "    Val transforms:   [{'RandomHorizontalFlip': {'p': 0.8}}, {'Normalize': {'mean': [0.485, 0.456, 0.406], 'std': [0.229, 0.224, 0.225]}}]\n",
            "    Test transforms:  [{'Normalize': {'mean': [0.485, 0.456, 0.406], 'std': [0.229, 0.224, 0.225]}}]\n",
            "\n",
            "Model\n",
            "    Status:\n",
            "    Model Name:                     resnet152_v1d\n",
            "    Use Gpu:                        True\n",
            "    Use pretrained weights:         True\n",
            "    Base network weights freezed:   False\n",
            "    Number of trainable parameters: 315\n",
            "\n",
            "Hyper-Parameters\n",
            "    Status: True\n",
            "    Optimizer:                {'name': 'sgd', 'params': {'lr': 0.01, 'momentum': 0, 'weight_decay': 0, 'momentum_dampening_rate': 0, 'clipnorm': 0.0, 'clipvalue': 0.0}}\n",
            "    Learning Rate Scheduler:  {'name': 'steplr', 'params': {'step_size': 1, 'gamma': 0.98, 'last_epoch': -1}}\n",
            "    loss:                     {'name': 'softmaxcrossentropy', 'params': {'weight': None, 'batch_axis': 0, 'axis_to_sum_over': -1, 'label_as_categories': True, 'label_smoothing': False}}\n",
            "    Num epochs:               5\n",
            "\n",
            "\n",
            "Dataset Settings\n",
            "    Status: True\n",
            "    Display progress:          True\n",
            "    Display progress realtime: True\n",
            "    Save intermediate models:  True\n",
            "    Save training logs:        True\n",
            "    Intermediate model prefix: intermediate_model_\n",
            "\n",
            "\n",
            "Training\n",
            "    Status: True\n",
            "    Model dir:                      workspace/blackpink-fd/best_model-resnet/output/models/\n",
            "    Best validation accuracy:       0.974500\n",
            "    Best validation accuracy epoch: 4\n",
            "    Training time:                  12m 46s\n",
            "    Epochs completed:               5\n",
            "    Max Gpu Usage:                  3215 Mb\n",
            "\n",
            "Training Log Files\n",
            "    Train accuracy: workspace/blackpink-fd/best_model-resnet/output/logs/train_acc_history.npy\n",
            "    Train loss:     workspace/blackpink-fd/best_model-resnet/output/logs/train_loss_history.npy\n",
            "    Val accuracy:   workspace/blackpink-fd/best_model-resnet/output/logs/val_acc_history.npy\n",
            "    Val loss:       workspace/blackpink-fd/best_model-resnet/output/logs/val_loss_history.npy\n",
            "\n",
            "External Evaluation\n",
            "    Status: False\n",
            "\n"
          ],
          "name": "stdout"
        }
      ]
    },
    {
      "cell_type": "code",
      "metadata": {
        "id": "aLWD7DBMHiCx",
        "outputId": "a0c38853-b185-4f85-a618-eb8120c96558",
        "colab": {
          "base_uri": "https://localhost:8080/",
          "height": 207
        }
      },
      "source": [
        "gtf = prototype(verbose=1)\n",
        "gtf.Prototype(\"blackpink-fd\", \"best_model-resnet\", eval_infer=True)"
      ],
      "execution_count": 8,
      "outputs": [
        {
          "output_type": "stream",
          "text": [
            "Mxnet Version: 1.7.0\n",
            "\n",
            "Model Details\n",
            "    Loading model - workspace/blackpink-fd/best_model-resnet/output/models/final-symbol.json\n",
            "    Model loaded!\n",
            "\n",
            "Experiment Details\n",
            "    Project: blackpink-fd\n",
            "    Experiment: best_model-resnet\n",
            "    Dir: /content/workspace/blackpink-fd/best_model-resnet/\n",
            "\n"
          ],
          "name": "stdout"
        }
      ]
    },
    {
      "cell_type": "code",
      "metadata": {
        "id": "B8CFrR3VHiJM",
        "outputId": "bf1b9f2c-1776-495d-d5ed-51d762f9c103",
        "colab": {
          "base_uri": "https://localhost:8080/",
          "height": 276
        }
      },
      "source": [
        "gtf.Dataset_Params(dataset_path=\"/content/test/test_vgg\");\n",
        "gtf.Dataset();"
      ],
      "execution_count": 9,
      "outputs": [
        {
          "output_type": "stream",
          "text": [
            "Dataset Details\n",
            "    Test path:      /content/test/test_vgg\n",
            "    CSV test path:  None\n",
            "\n",
            "Dataset Params\n",
            "    Input Size:  224\n",
            "    Processors:   2\n",
            "\n",
            "Pre-Composed Test Transforms\n",
            "[{'Normalize': {'mean': [0.485, 0.456, 0.406], 'std': [0.229, 0.224, 0.225]}}]\n",
            "\n",
            "Dataset Numbers\n",
            "    Num test images: 612\n",
            "    Num classes:      4\n",
            "\n"
          ],
          "name": "stdout"
        }
      ]
    },
    {
      "cell_type": "code",
      "metadata": {
        "id": "88ukO97QHiGY",
        "outputId": "dd1be132-402d-49fe-fe77-b7e5d927e6da",
        "colab": {
          "base_uri": "https://localhost:8080/",
          "height": 224
        }
      },
      "source": [
        "accuracy, class_based_accuracy = gtf.Evaluate();"
      ],
      "execution_count": 10,
      "outputs": [
        {
          "output_type": "stream",
          "text": [
            "\r  0%|          | 0/612 [00:00<?, ?it/s]"
          ],
          "name": "stderr"
        },
        {
          "output_type": "stream",
          "text": [
            "Testing\n"
          ],
          "name": "stdout"
        },
        {
          "output_type": "stream",
          "text": [
            "100%|█████████▉| 609/612 [00:16<00:00, 38.84it/s]"
          ],
          "name": "stderr"
        },
        {
          "output_type": "stream",
          "text": [
            "\n",
            "    Result\n",
            "        class based accuracies\n",
            "            0. jennie - 98.68421052631578 %\n",
            "            1. jisoo - 98.05194805194806 %\n",
            "            2. lisa - 98.7012987012987 %\n",
            "            3. rose - 100.0 %\n",
            "        total images:            612\n",
            "        num correct predictions: 605\n",
            "        Average accuracy (%):    98.8562091503268\n",
            "\n"
          ],
          "name": "stdout"
        }
      ]
    },
    {
      "cell_type": "code",
      "metadata": {
        "id": "c1yhPxrZHiAH",
        "outputId": "5d3a9c5c-b64a-4fc8-9ff0-d6c5172b4d46",
        "colab": {
          "base_uri": "https://localhost:8080/",
          "height": 207
        }
      },
      "source": [
        "gtf = prototype(verbose=1);\n",
        "gtf.Prototype(\"blackpink-fd\", \"best_model-resnet\", eval_infer=True);"
      ],
      "execution_count": 11,
      "outputs": [
        {
          "output_type": "stream",
          "text": [
            "Mxnet Version: 1.7.0\n",
            "\n",
            "Model Details\n",
            "    Loading model - workspace/blackpink-fd/best_model-resnet/output/models/final-symbol.json\n",
            "    Model loaded!\n",
            "\n",
            "Experiment Details\n",
            "    Project: blackpink-fd\n",
            "    Experiment: best_model-resnet\n",
            "    Dir: /content/workspace/blackpink-fd/best_model-resnet/\n",
            "\n"
          ],
          "name": "stdout"
        }
      ]
    },
    {
      "cell_type": "code",
      "metadata": {
        "id": "F6dv7yknH4pt",
        "outputId": "f98114b2-e865-4959-e4be-0140aa75cf68",
        "colab": {
          "base_uri": "https://localhost:8080/",
          "height": 327
        }
      },
      "source": [
        "img_name = \"/content/test/train_vgg/jennie/17.Jennie-3cdf.jpg\";\n",
        "predictions = gtf.Infer(img_name=img_name);\n",
        "\n",
        "#Display \n",
        "from IPython.display import Image\n",
        "Image(filename=img_name)"
      ],
      "execution_count": 12,
      "outputs": [
        {
          "output_type": "stream",
          "text": [
            "Prediction\n",
            "    Image name:         /content/test/train_vgg/jennie/17.Jennie-3cdf.jpg\n",
            "    Predicted class:      jennie\n",
            "    Predicted score:      0.9970279932022095\n",
            "\n"
          ],
          "name": "stdout"
        },
        {
          "output_type": "execute_result",
          "data": {
            "image/jpeg": "[encoded data removed]",
            "text/plain": [
              "<IPython.core.display.Image object>"
            ]
          },
          "metadata": {
            "tags": []
          },
          "execution_count": 12
        }
      ]
    },
    {
      "cell_type": "code",
      "metadata": {
        "id": "GgTEuQLIH4v8",
        "outputId": "2c734ba1-1953-48e9-8c94-41e29f444656",
        "colab": {
          "base_uri": "https://localhost:8080/",
          "height": 327
        }
      },
      "source": [
        "img_name = \"/content/test/train_vgg/jennie/23.blackpink-jennie-instagram.jpg\";\n",
        "predictions = gtf.Infer(img_name=img_name);\n",
        "\n",
        "#Display \n",
        "from IPython.display import Image\n",
        "Image(filename=img_name)"
      ],
      "execution_count": 13,
      "outputs": [
        {
          "output_type": "stream",
          "text": [
            "Prediction\n",
            "    Image name:         /content/test/train_vgg/jennie/23.blackpink-jennie-instagram.jpg\n",
            "    Predicted class:      jennie\n",
            "    Predicted score:      0.9999732971191406\n",
            "\n"
          ],
          "name": "stdout"
        },
        {
          "output_type": "execute_result",
          "data": {
            "image/jpeg": "[encoded data removed]",
            "text/plain": [
              "<IPython.core.display.Image object>"
            ]
          },
          "metadata": {
            "tags": []
          },
          "execution_count": 13
        }
      ]
    },
    {
      "cell_type": "code",
      "metadata": {
        "id": "GLq54fB4H4uO",
        "outputId": "b8f0e55b-42d8-42d8-ed41-bad733bc78d5",
        "colab": {
          "base_uri": "https://localhost:8080/",
          "height": 327
        }
      },
      "source": [
        "img_name = \"/content/test/train_vgg/jisoo/21.tumblr_op4ek3dU9K1vwnru6o5_500.jpg\";\n",
        "predictions = gtf.Infer(img_name=img_name);\n",
        "\n",
        "#Display \n",
        "from IPython.display import Image\n",
        "Image(filename=img_name)"
      ],
      "execution_count": 14,
      "outputs": [
        {
          "output_type": "stream",
          "text": [
            "Prediction\n",
            "    Image name:         /content/test/train_vgg/jisoo/21.tumblr_op4ek3dU9K1vwnru6o5_500.jpg\n",
            "    Predicted class:      jisoo\n",
            "    Predicted score:      0.9478013515472412\n",
            "\n"
          ],
          "name": "stdout"
        },
        {
          "output_type": "execute_result",
          "data": {
            "image/jpeg": "[encoded data removed]",
            "text/plain": [
              "<IPython.core.display.Image object>"
            ]
          },
          "metadata": {
            "tags": []
          },
          "execution_count": 14
        }
      ]
    },
    {
      "cell_type": "code",
      "metadata": {
        "id": "5vELI6_qIb6w",
        "outputId": "3462db09-bcce-4e89-95a3-3b8f089fe120",
        "colab": {
          "base_uri": "https://localhost:8080/",
          "height": 327
        }
      },
      "source": [
        "img_name = \"/content/test/train_vgg/jisoo/16.large.jpg\";\n",
        "predictions = gtf.Infer(img_name=img_name);\n",
        "\n",
        "#Display \n",
        "from IPython.display import Image\n",
        "Image(filename=img_name)"
      ],
      "execution_count": 15,
      "outputs": [
        {
          "output_type": "stream",
          "text": [
            "Prediction\n",
            "    Image name:         /content/test/train_vgg/jisoo/16.large.jpg\n",
            "    Predicted class:      jisoo\n",
            "    Predicted score:      0.9893643856048584\n",
            "\n"
          ],
          "name": "stdout"
        },
        {
          "output_type": "execute_result",
          "data": {
            "image/jpeg": "[encoded data removed]",
            "text/plain": [
              "<IPython.core.display.Image object>"
            ]
          },
          "metadata": {
            "tags": []
          },
          "execution_count": 15
        }
      ]
    },
    {
      "cell_type": "code",
      "metadata": {
        "id": "_KicYM34IcLz",
        "outputId": "9d271057-0e37-4590-9a84-fda96d5e644b",
        "colab": {
          "base_uri": "https://localhost:8080/",
          "height": 327
        }
      },
      "source": [
        "img_name = \"/content/test/train_vgg/lisa/17.maxresdefault.jpg\";\n",
        "predictions = gtf.Infer(img_name=img_name);\n",
        "\n",
        "#Display \n",
        "from IPython.display import Image\n",
        "Image(filename=img_name)"
      ],
      "execution_count": 16,
      "outputs": [
        {
          "output_type": "stream",
          "text": [
            "Prediction\n",
            "    Image name:         /content/test/train_vgg/lisa/17.maxresdefault.jpg\n",
            "    Predicted class:      lisa\n",
            "    Predicted score:      0.9039202332496643\n",
            "\n"
          ],
          "name": "stdout"
        },
        {
          "output_type": "execute_result",
          "data": {
            "image/jpeg": "[encoded data removed]",
            "text/plain": [
              "<IPython.core.display.Image object>"
            ]
          },
          "metadata": {
            "tags": []
          },
          "execution_count": 16
        }
      ]
    },
    {
      "cell_type": "code",
      "metadata": {
        "id": "qk_XKYkOIcXC",
        "outputId": "8ac00ee8-a5ff-4665-acaf-e0703ffe01cf",
        "colab": {
          "base_uri": "https://localhost:8080/",
          "height": 327
        }
      },
      "source": [
        "img_name = \"/content/test/train_vgg/lisa/12.8e662b2b410614e581a6d37fe6433af8.jpg\";\n",
        "predictions = gtf.Infer(img_name=img_name);\n",
        "\n",
        "#Display \n",
        "from IPython.display import Image\n",
        "Image(filename=img_name)"
      ],
      "execution_count": 17,
      "outputs": [
        {
          "output_type": "stream",
          "text": [
            "Prediction\n",
            "    Image name:         /content/test/train_vgg/lisa/12.8e662b2b410614e581a6d37fe6433af8.jpg\n",
            "    Predicted class:      lisa\n",
            "    Predicted score:      0.9978141784667969\n",
            "\n"
          ],
          "name": "stdout"
        },
        {
          "output_type": "execute_result",
          "data": {
            "image/jpeg": "[encoded data removed]",
            "text/plain": [
              "<IPython.core.display.Image object>"
            ]
          },
          "metadata": {
            "tags": []
          },
          "execution_count": 17
        }
      ]
    },
    {
      "cell_type": "code",
      "metadata": {
        "id": "HZ3QGDmWIcxG",
        "outputId": "00ed11b6-54da-4037-f60c-23562733ff9c",
        "colab": {
          "base_uri": "https://localhost:8080/",
          "height": 327
        }
      },
      "source": [
        "img_name = \"/content/test/train_vgg/rose/1.cover-BLACKPINK-Rose-Instagram-Photo-26-November-2018-furr-coat.jpg\";\n",
        "predictions = gtf.Infer(img_name=img_name);\n",
        "\n",
        "#Display \n",
        "from IPython.display import Image\n",
        "Image(filename=img_name)"
      ],
      "execution_count": 18,
      "outputs": [
        {
          "output_type": "stream",
          "text": [
            "Prediction\n",
            "    Image name:         /content/test/train_vgg/rose/1.cover-BLACKPINK-Rose-Instagram-Photo-26-November-2018-furr-coat.jpg\n",
            "    Predicted class:      rose\n",
            "    Predicted score:      1.0\n",
            "\n"
          ],
          "name": "stdout"
        },
        {
          "output_type": "execute_result",
          "data": {
            "image/jpeg": "[encoded data removed]",
            "text/plain": [
              "<IPython.core.display.Image object>"
            ]
          },
          "metadata": {
            "tags": []
          },
          "execution_count": 18
        }
      ]
    },
    {
      "cell_type": "code",
      "metadata": {
        "id": "_pTK0W90Ic_n",
        "outputId": "28062bde-c606-4053-f763-74d8cd8a2233",
        "colab": {
          "base_uri": "https://localhost:8080/",
          "height": 327
        }
      },
      "source": [
        "img_name = \"/content/test/train_vgg/rose/26.O4DsI3V.jpg\";\n",
        "predictions = gtf.Infer(img_name=img_name);\n",
        "\n",
        "#Display \n",
        "from IPython.display import Image\n",
        "Image(filename=img_name)"
      ],
      "execution_count": 19,
      "outputs": [
        {
          "output_type": "stream",
          "text": [
            "Prediction\n",
            "    Image name:         /content/test/train_vgg/rose/26.O4DsI3V.jpg\n",
            "    Predicted class:      rose\n",
            "    Predicted score:      0.9999980926513672\n",
            "\n"
          ],
          "name": "stdout"
        },
        {
          "output_type": "execute_result",
          "data": {
            "image/jpeg": "[encoded data removed]",
            "text/plain": [
              "<IPython.core.display.Image object>"
            ]
          },
          "metadata": {
            "tags": []
          },
          "execution_count": 19
        }
      ]
    },
    {
      "cell_type": "code",
      "metadata": {
        "id": "HbrCY6HMOcbV"
      },
      "source": [
        "import os\n",
        "from IPython.display import Image\n",
        "import random\n",
        "\n",
        "def predict(path='/content/test/test_vgg/rose'):\n",
        "  imgs = os.listdir(path)\n",
        "  img = random.choices(imgs,k=2)\n",
        "  for i in img:\n",
        "    img_name = os.path.join(path,i)\n",
        "    print(img_name)\n",
        "    predictions = gtf.Infer(img_name=img_name);\n",
        "\n",
        "    #Display \n",
        "    display(Image(filename=img_name))\n"
      ],
      "execution_count": 34,
      "outputs": []
    },
    {
      "cell_type": "code",
      "metadata": {
        "id": "ILDdScivbLIV",
        "outputId": "47e726fe-5e27-4e35-b287-9c8f384377cf",
        "colab": {
          "base_uri": "https://localhost:8080/",
          "height": 672
        }
      },
      "source": [
        "predict('/content/test/train_vgg/jisoo')"
      ],
      "execution_count": 39,
      "outputs": [
        {
          "output_type": "stream",
          "text": [
            "/content/test/train_vgg/jisoo/53396441_134222884297079_7042494354607065218_n.jpg\n",
            "Prediction\n",
            "    Image name:         /content/test/train_vgg/jisoo/53396441_134222884297079_7042494354607065218_n.jpg\n",
            "    Predicted class:      jisoo\n",
            "    Predicted score:      0.9999942779541016\n",
            "\n"
          ],
          "name": "stdout"
        },
        {
          "output_type": "display_data",
          "data": {
            "image/jpeg": "[encoded data removed]",
            "text/plain": [
              "<IPython.core.display.Image object>"
            ]
          },
          "metadata": {
            "tags": []
          }
        },
        {
          "output_type": "stream",
          "text": [
            "/content/test/train_vgg/jisoo/64241833_313453126201422_7575472667549889593_n.jpg\n",
            "Prediction\n",
            "    Image name:         /content/test/train_vgg/jisoo/64241833_313453126201422_7575472667549889593_n.jpg\n",
            "    Predicted class:      jisoo\n",
            "    Predicted score:      0.975017786026001\n",
            "\n"
          ],
          "name": "stdout"
        },
        {
          "output_type": "display_data",
          "data": {
            "image/jpeg": "[encoded data removed]",
            "text/plain": [
              "<IPython.core.display.Image object>"
            ]
          },
          "metadata": {
            "tags": []
          }
        }
      ]
    },
    {
      "cell_type": "code",
      "metadata": {
        "id": "wheSLszycHHy",
        "outputId": "015d30cc-2bc3-441b-da94-fd45300f2dbc",
        "colab": {
          "base_uri": "https://localhost:8080/",
          "height": 672
        }
      },
      "source": [
        "predict('/content/test/train_vgg/rose')"
      ],
      "execution_count": 41,
      "outputs": [
        {
          "output_type": "stream",
          "text": [
            "/content/test/train_vgg/rose/bp36.jpg\n",
            "Prediction\n",
            "    Image name:         /content/test/train_vgg/rose/bp36.jpg\n",
            "    Predicted class:      rose\n",
            "    Predicted score:      0.9921436309814453\n",
            "\n"
          ],
          "name": "stdout"
        },
        {
          "output_type": "display_data",
          "data": {
            "image/jpeg": "[encoded data removed]",
            "text/plain": [
              "<IPython.core.display.Image object>"
            ]
          },
          "metadata": {
            "tags": []
          }
        },
        {
          "output_type": "stream",
          "text": [
            "/content/test/train_vgg/rose/bp890.jpg\n",
            "Prediction\n",
            "    Image name:         /content/test/train_vgg/rose/bp890.jpg\n",
            "    Predicted class:      rose\n",
            "    Predicted score:      0.9999847412109375\n",
            "\n"
          ],
          "name": "stdout"
        },
        {
          "output_type": "display_data",
          "data": {
            "image/jpeg": "[encoded data removed]",
            "text/plain": [
              "<IPython.core.display.Image object>"
            ]
          },
          "metadata": {
            "tags": []
          }
        }
      ]
    },
    {
      "cell_type": "code",
      "metadata": {
        "id": "DgZXQdMrcK-r",
        "outputId": "e5ce47f9-e670-449a-f658-ad77107a7dee",
        "colab": {
          "base_uri": "https://localhost:8080/",
          "height": 672
        }
      },
      "source": [
        "predict('/content/test/train_vgg/lisa')"
      ],
      "execution_count": 42,
      "outputs": [
        {
          "output_type": "stream",
          "text": [
            "/content/test/train_vgg/lisa/lisa78.jpg\n",
            "Prediction\n",
            "    Image name:         /content/test/train_vgg/lisa/lisa78.jpg\n",
            "    Predicted class:      lisa\n",
            "    Predicted score:      0.999557614326477\n",
            "\n"
          ],
          "name": "stdout"
        },
        {
          "output_type": "display_data",
          "data": {
            "image/jpeg": "[encoded data removed]",
            "text/plain": [
              "<IPython.core.display.Image object>"
            ]
          },
          "metadata": {
            "tags": []
          }
        },
        {
          "output_type": "stream",
          "text": [
            "/content/test/train_vgg/lisa/lisa252.jpg\n",
            "Prediction\n",
            "    Image name:         /content/test/train_vgg/lisa/lisa252.jpg\n",
            "    Predicted class:      lisa\n",
            "    Predicted score:      0.9962148666381836\n",
            "\n"
          ],
          "name": "stdout"
        },
        {
          "output_type": "display_data",
          "data": {
            "image/jpeg": "[encoded data removed]",
            "text/plain": [
              "<IPython.core.display.Image object>"
            ]
          },
          "metadata": {
            "tags": []
          }
        }
      ]
    },
    {
      "cell_type": "code",
      "metadata": {
        "id": "iY503jWicQRd",
        "outputId": "53df8764-c859-4b1a-a78f-9814439286b8",
        "colab": {
          "base_uri": "https://localhost:8080/",
          "height": 672
        }
      },
      "source": [
        "predict('/content/test/train_vgg/jennie')"
      ],
      "execution_count": 43,
      "outputs": [
        {
          "output_type": "stream",
          "text": [
            "/content/test/train_vgg/jennie/bp418.jpg\n",
            "Prediction\n",
            "    Image name:         /content/test/train_vgg/jennie/bp418.jpg\n",
            "    Predicted class:      jennie\n",
            "    Predicted score:      0.9999990463256836\n",
            "\n"
          ],
          "name": "stdout"
        },
        {
          "output_type": "display_data",
          "data": {
            "image/jpeg": "[encoded data removed]",
            "text/plain": [
              "<IPython.core.display.Image object>"
            ]
          },
          "metadata": {
            "tags": []
          }
        },
        {
          "output_type": "stream",
          "text": [
            "/content/test/train_vgg/jennie/72.drysgl0vyaak6nrjpg.jpg\n",
            "Prediction\n",
            "    Image name:         /content/test/train_vgg/jennie/72.drysgl0vyaak6nrjpg.jpg\n",
            "    Predicted class:      jennie\n",
            "    Predicted score:      0.9999933242797852\n",
            "\n"
          ],
          "name": "stdout"
        },
        {
          "output_type": "display_data",
          "data": {
            "image/jpeg": "[encoded data removed]",
            "text/plain": [
              "<IPython.core.display.Image object>"
            ]
          },
          "metadata": {
            "tags": []
          }
        }
      ]
    },
    {
      "cell_type": "code",
      "metadata": {
        "id": "3HQisAHpcT7t"
      },
      "source": [
        ""
      ],
      "execution_count": null,
      "outputs": []
    }
  ]
}